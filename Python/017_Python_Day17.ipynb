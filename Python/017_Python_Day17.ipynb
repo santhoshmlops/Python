{
 "cells": [
  {
   "cell_type": "markdown",
   "id": "aef80c0c",
   "metadata": {},
   "source": [
    "# Decorators\n",
    "\n",
    "- Decorators are a way to wrap a function, altering its behaviour or adding functionailty before or after the original function is called.\n",
    "- Decroators help in enhancing or modify the behaviour of functions in a clean and resuable way."
   ]
  },
  {
   "cell_type": "code",
   "execution_count": 1,
   "id": "8e520805",
   "metadata": {},
   "outputs": [],
   "source": [
    "def test():\n",
    "    print(\"This is my start function\")\n",
    "    print(\"This is my function to test\")\n",
    "    print(5+8)\n",
    "    print(\"This is my end function\")"
   ]
  },
  {
   "cell_type": "code",
   "execution_count": 2,
   "id": "5d93bc9f",
   "metadata": {},
   "outputs": [
    {
     "name": "stdout",
     "output_type": "stream",
     "text": [
      "This is my start function\n",
      "This is my function to test\n",
      "13\n",
      "This is my end function\n"
     ]
    }
   ],
   "source": [
    "test()"
   ]
  },
  {
   "cell_type": "code",
   "execution_count": 3,
   "id": "960ed418",
   "metadata": {},
   "outputs": [],
   "source": [
    "def deco(func):\n",
    "    def inner_deco():\n",
    "        print(\"This is the start of my function\")\n",
    "        func()\n",
    "        print(\"This is the end of my function\")\n",
    "    return inner_deco"
   ]
  },
  {
   "cell_type": "code",
   "execution_count": 4,
   "id": "47187041",
   "metadata": {},
   "outputs": [],
   "source": [
    "@deco\n",
    "def test1():\n",
    "    print(8*9)"
   ]
  },
  {
   "cell_type": "code",
   "execution_count": 5,
   "id": "c845d2bd",
   "metadata": {},
   "outputs": [
    {
     "name": "stdout",
     "output_type": "stream",
     "text": [
      "This is the start of my function\n",
      "72\n",
      "This is the end of my function\n"
     ]
    }
   ],
   "source": [
    "test1()"
   ]
  },
  {
   "cell_type": "code",
   "execution_count": 6,
   "id": "3d1a9051",
   "metadata": {},
   "outputs": [
    {
     "name": "stdout",
     "output_type": "stream",
     "text": [
      "Something is happening before the function is called\n",
      "Hello!\n",
      "Something is happening after the function is called\n"
     ]
    }
   ],
   "source": [
    "def my_decorator(func):\n",
    "    def wrapper():\n",
    "        print(\"Something is happening before the function is called\")\n",
    "        func()\n",
    "        print(\"Something is happening after the function is called\")\n",
    "    return wrapper\n",
    "\n",
    "@my_decorator\n",
    "def say_hello():\n",
    "    print(\"Hello!\")\n",
    "    \n",
    "say_hello()"
   ]
  },
  {
   "cell_type": "markdown",
   "id": "e9b568fb",
   "metadata": {},
   "source": [
    "# Common Use Cases:\n",
    "\n",
    "1. Logging\n",
    "2. Timimg\n",
    "3. Authorization"
   ]
  },
  {
   "cell_type": "code",
   "execution_count": 21,
   "id": "f24023c6",
   "metadata": {},
   "outputs": [],
   "source": [
    "import time \n",
    "\n",
    "def timer_test(func):\n",
    "    def timer_test_inner ():\n",
    "        start = time.time()\n",
    "        func()\n",
    "        end = time.time()\n",
    "        print(end - start)\n",
    "    return timer_test_inner\n",
    "        \n",
    "    \n",
    "    \n",
    "    "
   ]
  },
  {
   "cell_type": "code",
   "execution_count": 22,
   "id": "96685b7a",
   "metadata": {},
   "outputs": [],
   "source": [
    "@timer_test\n",
    "def test2():\n",
    "    print(45000000000000000000000+45555555555555555)"
   ]
  },
  {
   "cell_type": "code",
   "execution_count": 23,
   "id": "eedc1397",
   "metadata": {},
   "outputs": [
    {
     "name": "stdout",
     "output_type": "stream",
     "text": [
      "45000045555555555555555\n",
      "0.0\n"
     ]
    }
   ],
   "source": [
    "test2()"
   ]
  },
  {
   "cell_type": "code",
   "execution_count": 24,
   "id": "0d9334be",
   "metadata": {},
   "outputs": [],
   "source": [
    "@timer_test\n",
    "def test():\n",
    "    for i in range(1000):\n",
    "        pass\n"
   ]
  },
  {
   "cell_type": "code",
   "execution_count": 18,
   "id": "c6dffecf",
   "metadata": {},
   "outputs": [
    {
     "name": "stdout",
     "output_type": "stream",
     "text": [
      "0.0\n"
     ]
    }
   ],
   "source": [
    "test()"
   ]
  },
  {
   "cell_type": "code",
   "execution_count": 179,
   "id": "cd46b0a0",
   "metadata": {},
   "outputs": [],
   "source": [
    "@timer_test\n",
    "def test3():\n",
    "    print(45 + 78)"
   ]
  },
  {
   "cell_type": "code",
   "execution_count": 181,
   "id": "784ae4ea",
   "metadata": {},
   "outputs": [
    {
     "name": "stdout",
     "output_type": "stream",
     "text": [
      "123\n",
      "0.0\n"
     ]
    }
   ],
   "source": [
    "test3()"
   ]
  },
  {
   "cell_type": "markdown",
   "id": "c9b0426e",
   "metadata": {},
   "source": [
    "# Built in Decorators\n",
    "\n",
    "1. @staticmethod\n",
    "2. @classmethod\n",
    "3. @property"
   ]
  },
  {
   "cell_type": "code",
   "execution_count": 84,
   "id": "9805484a",
   "metadata": {},
   "outputs": [],
   "source": [
    "class datascilearn:\n",
    "    \n",
    "    def __init__(self, course_price, course_name):\n",
    "        self.__course_price = course_price\n",
    "        self.course_name = course_name\n",
    "    @property   \n",
    "    def course_price_access(self):\n",
    "        return self.__course_price\n",
    "    \n",
    "    @course_price_access.setter\n",
    "    def course_price_set(self,price):\n",
    "        if price <=5000:\n",
    "            pass\n",
    "        else :\n",
    "            self.__course_price = price \n",
    "            \n",
    "    @course_price_access.deleter\n",
    "    def delete_course_price(self):\n",
    "        del self.__course_price\n",
    "        "
   ]
  },
  {
   "cell_type": "code",
   "execution_count": 85,
   "id": "18008b7b",
   "metadata": {},
   "outputs": [],
   "source": [
    "ds = datascilearn(5000, 'data science master')"
   ]
  },
  {
   "cell_type": "code",
   "execution_count": 86,
   "id": "a85872fa",
   "metadata": {},
   "outputs": [
    {
     "data": {
      "text/plain": [
       "'data science master'"
      ]
     },
     "execution_count": 86,
     "metadata": {},
     "output_type": "execute_result"
    }
   ],
   "source": [
    "ds.course_name"
   ]
  },
  {
   "cell_type": "code",
   "execution_count": 87,
   "id": "2ec7a106",
   "metadata": {},
   "outputs": [
    {
     "data": {
      "text/plain": [
       "5000"
      ]
     },
     "execution_count": 87,
     "metadata": {},
     "output_type": "execute_result"
    }
   ],
   "source": [
    "ds._datascilearn__course_price"
   ]
  },
  {
   "cell_type": "code",
   "execution_count": 88,
   "id": "7b990dd7",
   "metadata": {},
   "outputs": [
    {
     "data": {
      "text/plain": [
       "5000"
      ]
     },
     "execution_count": 88,
     "metadata": {},
     "output_type": "execute_result"
    }
   ],
   "source": [
    "ds.course_price_access"
   ]
  },
  {
   "cell_type": "code",
   "execution_count": 89,
   "id": "a40fdb23",
   "metadata": {},
   "outputs": [],
   "source": [
    "ds.course_price_set = 7000"
   ]
  },
  {
   "cell_type": "code",
   "execution_count": 90,
   "id": "eee5c8b8",
   "metadata": {},
   "outputs": [
    {
     "data": {
      "text/plain": [
       "7000"
      ]
     },
     "execution_count": 90,
     "metadata": {},
     "output_type": "execute_result"
    }
   ],
   "source": [
    "ds.course_price_access"
   ]
  },
  {
   "cell_type": "code",
   "execution_count": 93,
   "id": "a53beff3",
   "metadata": {},
   "outputs": [],
   "source": [
    "del ds.delete_course_price"
   ]
  },
  {
   "cell_type": "code",
   "execution_count": 94,
   "id": "96567b99",
   "metadata": {},
   "outputs": [
    {
     "ename": "AttributeError",
     "evalue": "'datascilearn' object has no attribute '_datascilearn__course_price'",
     "output_type": "error",
     "traceback": [
      "\u001b[1;31m---------------------------------------------------------------------------\u001b[0m",
      "\u001b[1;31mAttributeError\u001b[0m                            Traceback (most recent call last)",
      "\u001b[1;32m~\\AppData\\Local\\Temp\\ipykernel_13236\\2833659535.py\u001b[0m in \u001b[0;36m<module>\u001b[1;34m\u001b[0m\n\u001b[1;32m----> 1\u001b[1;33m \u001b[0mds\u001b[0m\u001b[1;33m.\u001b[0m\u001b[0mcourse_price_access\u001b[0m\u001b[1;33m\u001b[0m\u001b[1;33m\u001b[0m\u001b[0m\n\u001b[0m",
      "\u001b[1;32m~\\AppData\\Local\\Temp\\ipykernel_13236\\566493061.py\u001b[0m in \u001b[0;36mcourse_price_access\u001b[1;34m(self)\u001b[0m\n\u001b[0;32m      6\u001b[0m     \u001b[1;33m@\u001b[0m\u001b[0mproperty\u001b[0m\u001b[1;33m\u001b[0m\u001b[1;33m\u001b[0m\u001b[0m\n\u001b[0;32m      7\u001b[0m     \u001b[1;32mdef\u001b[0m \u001b[0mcourse_price_access\u001b[0m\u001b[1;33m(\u001b[0m\u001b[0mself\u001b[0m\u001b[1;33m)\u001b[0m\u001b[1;33m:\u001b[0m\u001b[1;33m\u001b[0m\u001b[1;33m\u001b[0m\u001b[0m\n\u001b[1;32m----> 8\u001b[1;33m         \u001b[1;32mreturn\u001b[0m \u001b[0mself\u001b[0m\u001b[1;33m.\u001b[0m\u001b[0m__course_price\u001b[0m\u001b[1;33m\u001b[0m\u001b[1;33m\u001b[0m\u001b[0m\n\u001b[0m\u001b[0;32m      9\u001b[0m \u001b[1;33m\u001b[0m\u001b[0m\n\u001b[0;32m     10\u001b[0m     \u001b[1;33m@\u001b[0m\u001b[0mcourse_price_access\u001b[0m\u001b[1;33m.\u001b[0m\u001b[0msetter\u001b[0m\u001b[1;33m\u001b[0m\u001b[1;33m\u001b[0m\u001b[0m\n",
      "\u001b[1;31mAttributeError\u001b[0m: 'datascilearn' object has no attribute '_datascilearn__course_price'"
     ]
    }
   ],
   "source": [
    "ds.course_price_access"
   ]
  },
  {
   "cell_type": "markdown",
   "id": "c471c936",
   "metadata": {},
   "source": [
    "# Static Method\n",
    "\n",
    "- In Python , a static method is a method that belongs to a class but does not require an instance of the class to be called.\n",
    "    This means you can call a static method without creating object of the class."
   ]
  },
  {
   "cell_type": "code",
   "execution_count": 134,
   "id": "6c1f4832",
   "metadata": {},
   "outputs": [],
   "source": [
    "class Maths:\n",
    "    @staticmethod\n",
    "    def addNum(a,b):\n",
    "        return a+b"
   ]
  },
  {
   "cell_type": "code",
   "execution_count": 135,
   "id": "ff7703a3",
   "metadata": {},
   "outputs": [
    {
     "data": {
      "text/plain": [
       "17"
      ]
     },
     "execution_count": 135,
     "metadata": {},
     "output_type": "execute_result"
    }
   ],
   "source": [
    "#use the static method\n",
    "Maths.addNum(8,9)"
   ]
  },
  {
   "cell_type": "code",
   "execution_count": 142,
   "id": "cdef498c",
   "metadata": {},
   "outputs": [],
   "source": [
    "class MyClass:\n",
    "    \n",
    "    class_variable = \"I am a class variable\"\n",
    "    \n",
    "    def __init__(self, instance_variable):\n",
    "        self.instance_variable = instance_variable\n",
    "        \n",
    "    @staticmethod\n",
    "    def static_method():\n",
    "        print(\"This is a static method\")\n",
    "        \n",
    "    def regular_method(self):\n",
    "        print(\"This is a regular method\")\n",
    "        print(f\"Instance_varaible:{self.instance_variable}\")"
   ]
  },
  {
   "cell_type": "code",
   "execution_count": 143,
   "id": "8e6f7f07",
   "metadata": {},
   "outputs": [],
   "source": [
    "obj = MyClass(\"I am an instance variable\")"
   ]
  },
  {
   "cell_type": "code",
   "execution_count": 144,
   "id": "f8df3c25",
   "metadata": {},
   "outputs": [
    {
     "data": {
      "text/plain": [
       "'I am an instance variable'"
      ]
     },
     "execution_count": 144,
     "metadata": {},
     "output_type": "execute_result"
    }
   ],
   "source": [
    "obj.instance_variable"
   ]
  },
  {
   "cell_type": "code",
   "execution_count": 145,
   "id": "6939eb3b",
   "metadata": {},
   "outputs": [
    {
     "name": "stdout",
     "output_type": "stream",
     "text": [
      "This is a regular method\n",
      "Instance_varaible:I am an instance variable\n"
     ]
    }
   ],
   "source": [
    "obj.regular_method()"
   ]
  },
  {
   "cell_type": "code",
   "execution_count": 146,
   "id": "b385e307",
   "metadata": {},
   "outputs": [
    {
     "name": "stdout",
     "output_type": "stream",
     "text": [
      "This is a static method\n"
     ]
    }
   ],
   "source": [
    "MyClass.static_method()"
   ]
  },
  {
   "cell_type": "markdown",
   "id": "f529b1c8",
   "metadata": {},
   "source": [
    "# Method Overloading"
   ]
  },
  {
   "cell_type": "code",
   "execution_count": 152,
   "id": "a4346c8f",
   "metadata": {},
   "outputs": [
    {
     "name": "stdout",
     "output_type": "stream",
     "text": [
      "120\n"
     ]
    }
   ],
   "source": [
    "def product(a,b):\n",
    "    p=a*b\n",
    "    print(p)\n",
    "    \n",
    "def product(a,b,c):\n",
    "    p = a*b*c\n",
    "    print(p)\n",
    "    \n",
    "#product(4,5) \n",
    "product(4,5,6)"
   ]
  },
  {
   "cell_type": "markdown",
   "id": "ee0f0892",
   "metadata": {},
   "source": [
    "# Magic or Dunder(Special)"
   ]
  },
  {
   "cell_type": "code",
   "execution_count": 155,
   "id": "3071ebb3",
   "metadata": {},
   "outputs": [
    {
     "data": {
      "text/plain": [
       "['__abs__',\n",
       " '__add__',\n",
       " '__and__',\n",
       " '__bool__',\n",
       " '__ceil__',\n",
       " '__class__',\n",
       " '__delattr__',\n",
       " '__dir__',\n",
       " '__divmod__',\n",
       " '__doc__',\n",
       " '__eq__',\n",
       " '__float__',\n",
       " '__floor__',\n",
       " '__floordiv__',\n",
       " '__format__',\n",
       " '__ge__',\n",
       " '__getattribute__',\n",
       " '__getnewargs__',\n",
       " '__gt__',\n",
       " '__hash__',\n",
       " '__index__',\n",
       " '__init__',\n",
       " '__init_subclass__',\n",
       " '__int__',\n",
       " '__invert__',\n",
       " '__le__',\n",
       " '__lshift__',\n",
       " '__lt__',\n",
       " '__mod__',\n",
       " '__mul__',\n",
       " '__ne__',\n",
       " '__neg__',\n",
       " '__new__',\n",
       " '__or__',\n",
       " '__pos__',\n",
       " '__pow__',\n",
       " '__radd__',\n",
       " '__rand__',\n",
       " '__rdivmod__',\n",
       " '__reduce__',\n",
       " '__reduce_ex__',\n",
       " '__repr__',\n",
       " '__rfloordiv__',\n",
       " '__rlshift__',\n",
       " '__rmod__',\n",
       " '__rmul__',\n",
       " '__ror__',\n",
       " '__round__',\n",
       " '__rpow__',\n",
       " '__rrshift__',\n",
       " '__rshift__',\n",
       " '__rsub__',\n",
       " '__rtruediv__',\n",
       " '__rxor__',\n",
       " '__setattr__',\n",
       " '__sizeof__',\n",
       " '__str__',\n",
       " '__sub__',\n",
       " '__subclasshook__',\n",
       " '__truediv__',\n",
       " '__trunc__',\n",
       " '__xor__',\n",
       " 'as_integer_ratio',\n",
       " 'bit_length',\n",
       " 'conjugate',\n",
       " 'denominator',\n",
       " 'from_bytes',\n",
       " 'imag',\n",
       " 'numerator',\n",
       " 'real',\n",
       " 'to_bytes']"
      ]
     },
     "execution_count": 155,
     "metadata": {},
     "output_type": "execute_result"
    }
   ],
   "source": [
    "dir(int)"
   ]
  },
  {
   "cell_type": "code",
   "execution_count": 156,
   "id": "886e32b1",
   "metadata": {},
   "outputs": [
    {
     "data": {
      "text/plain": [
       "['__add__',\n",
       " '__class__',\n",
       " '__contains__',\n",
       " '__delattr__',\n",
       " '__dir__',\n",
       " '__doc__',\n",
       " '__eq__',\n",
       " '__format__',\n",
       " '__ge__',\n",
       " '__getattribute__',\n",
       " '__getitem__',\n",
       " '__getnewargs__',\n",
       " '__gt__',\n",
       " '__hash__',\n",
       " '__init__',\n",
       " '__init_subclass__',\n",
       " '__iter__',\n",
       " '__le__',\n",
       " '__len__',\n",
       " '__lt__',\n",
       " '__mod__',\n",
       " '__mul__',\n",
       " '__ne__',\n",
       " '__new__',\n",
       " '__reduce__',\n",
       " '__reduce_ex__',\n",
       " '__repr__',\n",
       " '__rmod__',\n",
       " '__rmul__',\n",
       " '__setattr__',\n",
       " '__sizeof__',\n",
       " '__str__',\n",
       " '__subclasshook__',\n",
       " 'capitalize',\n",
       " 'casefold',\n",
       " 'center',\n",
       " 'count',\n",
       " 'encode',\n",
       " 'endswith',\n",
       " 'expandtabs',\n",
       " 'find',\n",
       " 'format',\n",
       " 'format_map',\n",
       " 'index',\n",
       " 'isalnum',\n",
       " 'isalpha',\n",
       " 'isascii',\n",
       " 'isdecimal',\n",
       " 'isdigit',\n",
       " 'isidentifier',\n",
       " 'islower',\n",
       " 'isnumeric',\n",
       " 'isprintable',\n",
       " 'isspace',\n",
       " 'istitle',\n",
       " 'isupper',\n",
       " 'join',\n",
       " 'ljust',\n",
       " 'lower',\n",
       " 'lstrip',\n",
       " 'maketrans',\n",
       " 'partition',\n",
       " 'removeprefix',\n",
       " 'removesuffix',\n",
       " 'replace',\n",
       " 'rfind',\n",
       " 'rindex',\n",
       " 'rjust',\n",
       " 'rpartition',\n",
       " 'rsplit',\n",
       " 'rstrip',\n",
       " 'split',\n",
       " 'splitlines',\n",
       " 'startswith',\n",
       " 'strip',\n",
       " 'swapcase',\n",
       " 'title',\n",
       " 'translate',\n",
       " 'upper',\n",
       " 'zfill']"
      ]
     },
     "execution_count": 156,
     "metadata": {},
     "output_type": "execute_result"
    }
   ],
   "source": [
    "dir(str)"
   ]
  },
  {
   "cell_type": "code",
   "execution_count": 157,
   "id": "d9462408",
   "metadata": {},
   "outputs": [],
   "source": [
    "a = 100"
   ]
  },
  {
   "cell_type": "code",
   "execution_count": 158,
   "id": "b30cc330",
   "metadata": {},
   "outputs": [
    {
     "data": {
      "text/plain": [
       "105"
      ]
     },
     "execution_count": 158,
     "metadata": {},
     "output_type": "execute_result"
    }
   ],
   "source": [
    "a+5"
   ]
  },
  {
   "cell_type": "code",
   "execution_count": 159,
   "id": "38551a74",
   "metadata": {},
   "outputs": [
    {
     "data": {
      "text/plain": [
       "105"
      ]
     },
     "execution_count": 159,
     "metadata": {},
     "output_type": "execute_result"
    }
   ],
   "source": [
    "a.__add__(5)"
   ]
  },
  {
   "cell_type": "code",
   "execution_count": 166,
   "id": "455accbe",
   "metadata": {},
   "outputs": [],
   "source": [
    "class datascience:\n",
    "    \n",
    "    def __new__(cls):\n",
    "        print(\"This is my new\")\n",
    "        \n",
    "    def __init__(self, mobile_number):\n",
    "        print(\"This is my init\")\n",
    "  "
   ]
  },
  {
   "cell_type": "code",
   "execution_count": 164,
   "id": "6dd6a5c8",
   "metadata": {},
   "outputs": [
    {
     "name": "stdout",
     "output_type": "stream",
     "text": [
      "This is my new\n"
     ]
    }
   ],
   "source": [
    "ds = datascience()"
   ]
  },
  {
   "cell_type": "code",
   "execution_count": null,
   "id": "566d3d3f",
   "metadata": {},
   "outputs": [],
   "source": []
  }
 ],
 "metadata": {
  "kernelspec": {
   "display_name": "Python 3 (ipykernel)",
   "language": "python",
   "name": "python3"
  },
  "language_info": {
   "codemirror_mode": {
    "name": "ipython",
    "version": 3
   },
   "file_extension": ".py",
   "mimetype": "text/x-python",
   "name": "python",
   "nbconvert_exporter": "python",
   "pygments_lexer": "ipython3",
   "version": "3.9.13"
  }
 },
 "nbformat": 4,
 "nbformat_minor": 5
}
