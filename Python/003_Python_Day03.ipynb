{
 "cells": [
  {
   "cell_type": "markdown",
   "id": "dc0e5d35",
   "metadata": {},
   "source": [
    "# String Concatenation"
   ]
  },
  {
   "cell_type": "code",
   "execution_count": 1,
   "id": "48e80b13",
   "metadata": {},
   "outputs": [
    {
     "name": "stdout",
     "output_type": "stream",
     "text": [
      "HelloRahul\n"
     ]
    }
   ],
   "source": [
    "s1 = \"Hello\"\n",
    "s2 = \"Rahul\"\n",
    "s3 = s1 + s2\n",
    "print(s3)"
   ]
  },
  {
   "cell_type": "code",
   "execution_count": 2,
   "id": "d9b73d3c",
   "metadata": {},
   "outputs": [
    {
     "name": "stdout",
     "output_type": "stream",
     "text": [
      "Hello Rahul\n"
     ]
    }
   ],
   "source": [
    "s3 = s1 + \" \" + s2\n",
    "print(s3)"
   ]
  },
  {
   "cell_type": "code",
   "execution_count": 7,
   "id": "fb50a792",
   "metadata": {},
   "outputs": [
    {
     "ename": "TypeError",
     "evalue": "can only concatenate str (not \"int\") to str",
     "output_type": "error",
     "traceback": [
      "\u001b[1;31m---------------------------------------------------------------------------\u001b[0m",
      "\u001b[1;31mTypeError\u001b[0m                                 Traceback (most recent call last)",
      "\u001b[1;32m~\\AppData\\Local\\Temp\\ipykernel_13596\\3686786038.py\u001b[0m in \u001b[0;36m<module>\u001b[1;34m\u001b[0m\n\u001b[0;32m      1\u001b[0m \u001b[0ms4\u001b[0m \u001b[1;33m=\u001b[0m \u001b[1;34m\"DataScience\"\u001b[0m\u001b[1;33m\u001b[0m\u001b[1;33m\u001b[0m\u001b[0m\n\u001b[0;32m      2\u001b[0m \u001b[0ma\u001b[0m \u001b[1;33m=\u001b[0m \u001b[1;36m10\u001b[0m\u001b[1;33m\u001b[0m\u001b[1;33m\u001b[0m\u001b[0m\n\u001b[1;32m----> 3\u001b[1;33m \u001b[0mc\u001b[0m \u001b[1;33m=\u001b[0m \u001b[0ms4\u001b[0m \u001b[1;33m+\u001b[0m \u001b[0ma\u001b[0m\u001b[1;33m\u001b[0m\u001b[1;33m\u001b[0m\u001b[0m\n\u001b[0m\u001b[0;32m      4\u001b[0m \u001b[0mprint\u001b[0m\u001b[1;33m(\u001b[0m\u001b[0mc\u001b[0m\u001b[1;33m)\u001b[0m\u001b[1;33m\u001b[0m\u001b[1;33m\u001b[0m\u001b[0m\n",
      "\u001b[1;31mTypeError\u001b[0m: can only concatenate str (not \"int\") to str"
     ]
    }
   ],
   "source": [
    "s4 = \"DataScience\"\n",
    "a = 10\n",
    "c = s4 + a \n",
    "print(c)"
   ]
  },
  {
   "cell_type": "code",
   "execution_count": 8,
   "id": "8036a8aa",
   "metadata": {},
   "outputs": [
    {
     "data": {
      "text/plain": [
       "int"
      ]
     },
     "execution_count": 8,
     "metadata": {},
     "output_type": "execute_result"
    }
   ],
   "source": [
    "type(a)"
   ]
  },
  {
   "cell_type": "code",
   "execution_count": 9,
   "id": "e260cd38",
   "metadata": {},
   "outputs": [
    {
     "name": "stdout",
     "output_type": "stream",
     "text": [
      "DataScience10\n"
     ]
    }
   ],
   "source": [
    "s4 = \"DataScience\"\n",
    "a = '10'\n",
    "c = s4 + a \n",
    "print(c)"
   ]
  },
  {
   "cell_type": "code",
   "execution_count": 5,
   "id": "6b737332",
   "metadata": {},
   "outputs": [
    {
     "data": {
      "text/plain": [
       "str"
      ]
     },
     "execution_count": 5,
     "metadata": {},
     "output_type": "execute_result"
    }
   ],
   "source": [
    "type(a)"
   ]
  },
  {
   "cell_type": "markdown",
   "id": "e383b7c7",
   "metadata": {},
   "source": [
    "# Python type Casting \n",
    "\n",
    "1. Implicit casting - In Implicit type casting, the python complier internally typecasts one variable into another type without the external action of the user.\n",
    "\n",
    "2. Explicit casting - In explicit type casting, the user explicitly forces the complier to convert a variable from one type to another type."
   ]
  },
  {
   "cell_type": "code",
   "execution_count": 14,
   "id": "df658845",
   "metadata": {},
   "outputs": [
    {
     "name": "stdout",
     "output_type": "stream",
     "text": [
      "<class 'int'>\n",
      "<class 'float'>\n",
      "<class 'float'>\n"
     ]
    },
    {
     "data": {
      "text/plain": [
       "101.01"
      ]
     },
     "execution_count": 14,
     "metadata": {},
     "output_type": "execute_result"
    }
   ],
   "source": [
    "#implicit casting\n",
    "int_num = 100   #integer data type\n",
    "float_num = 1.01   #float data type\n",
    "print(type(int_num))\n",
    "print(type(float_num))\n",
    "ans = int_num + float_num\n",
    "print(type(ans))     #becuase float have greatest precision \n",
    "ans"
   ]
  },
  {
   "cell_type": "code",
   "execution_count": 21,
   "id": "7a077181",
   "metadata": {},
   "outputs": [
    {
     "data": {
      "text/plain": [
       "'123'"
      ]
     },
     "execution_count": 21,
     "metadata": {},
     "output_type": "execute_result"
    }
   ],
   "source": [
    "# Explicit casting\n",
    "var = 123  #int \n",
    "#var\n",
    "str(var)"
   ]
  },
  {
   "cell_type": "code",
   "execution_count": 18,
   "id": "71de83c3",
   "metadata": {},
   "outputs": [
    {
     "data": {
      "text/plain": [
       "123.0"
      ]
     },
     "execution_count": 18,
     "metadata": {},
     "output_type": "execute_result"
    }
   ],
   "source": [
    "var = 123\n",
    "float(var)"
   ]
  },
  {
   "cell_type": "code",
   "execution_count": 19,
   "id": "4dfa38d9",
   "metadata": {},
   "outputs": [
    {
     "name": "stdout",
     "output_type": "stream",
     "text": [
      "DataScience10\n"
     ]
    }
   ],
   "source": [
    "s4 = \"DataScience\"  #string data type\n",
    "a = 10   #integer data type\n",
    "c = s4 + str(a) \n",
    "print(c)"
   ]
  },
  {
   "cell_type": "code",
   "execution_count": 22,
   "id": "c04710c0",
   "metadata": {},
   "outputs": [
    {
     "name": "stdout",
     "output_type": "stream",
     "text": [
      "7\n"
     ]
    }
   ],
   "source": [
    "# Float to Integer\n",
    "var = 7.8\n",
    "print(int(var))"
   ]
  },
  {
   "cell_type": "code",
   "execution_count": 23,
   "id": "b0387043",
   "metadata": {},
   "outputs": [
    {
     "data": {
      "text/plain": [
       "'DATASCIENCE'"
      ]
     },
     "execution_count": 23,
     "metadata": {},
     "output_type": "execute_result"
    }
   ],
   "source": [
    "# String functions\n",
    "\n",
    "s = \"datascience\"\n",
    "s.upper()     # () , {} , []"
   ]
  },
  {
   "cell_type": "code",
   "execution_count": 24,
   "id": "05db9c03",
   "metadata": {},
   "outputs": [
    {
     "data": {
      "text/plain": [
       "'Datascience'"
      ]
     },
     "execution_count": 24,
     "metadata": {},
     "output_type": "execute_result"
    }
   ],
   "source": [
    "s.capitalize()"
   ]
  },
  {
   "cell_type": "code",
   "execution_count": 25,
   "id": "b5ef5a2c",
   "metadata": {},
   "outputs": [
    {
     "data": {
      "text/plain": [
       "'This is a data science community'"
      ]
     },
     "execution_count": 25,
     "metadata": {},
     "output_type": "execute_result"
    }
   ],
   "source": [
    "str1 = \"this is a data science community\"\n",
    "str1.capitalize()"
   ]
  },
  {
   "cell_type": "code",
   "execution_count": 26,
   "id": "e6a338f3",
   "metadata": {},
   "outputs": [
    {
     "data": {
      "text/plain": [
       "'hello'"
      ]
     },
     "execution_count": 26,
     "metadata": {},
     "output_type": "execute_result"
    }
   ],
   "source": [
    "str2 = \"HELLO\"\n",
    "str2.lower()"
   ]
  },
  {
   "cell_type": "code",
   "execution_count": 27,
   "id": "655a07b4",
   "metadata": {},
   "outputs": [
    {
     "data": {
      "text/plain": [
       "'This Is A Data Science Community'"
      ]
     },
     "execution_count": 27,
     "metadata": {},
     "output_type": "execute_result"
    }
   ],
   "source": [
    "str1.title()"
   ]
  },
  {
   "cell_type": "code",
   "execution_count": 29,
   "id": "069d3ed8",
   "metadata": {},
   "outputs": [
    {
     "data": {
      "text/plain": [
       "'dstascience'"
      ]
     },
     "execution_count": 29,
     "metadata": {},
     "output_type": "execute_result"
    }
   ],
   "source": [
    "s.replace(\"da\", \"ds\")"
   ]
  },
  {
   "cell_type": "code",
   "execution_count": 30,
   "id": "78ff3745",
   "metadata": {},
   "outputs": [
    {
     "data": {
      "text/plain": [
       "3"
      ]
     },
     "execution_count": 30,
     "metadata": {},
     "output_type": "execute_result"
    }
   ],
   "source": [
    "str4 = \"one two three one two one four fifty fifty\"\n",
    "str4.count('one')"
   ]
  },
  {
   "cell_type": "code",
   "execution_count": 33,
   "id": "d7aa4530",
   "metadata": {},
   "outputs": [
    {
     "data": {
      "text/plain": [
       "'First day is  and Second day is Monday'"
      ]
     },
     "execution_count": 33,
     "metadata": {},
     "output_type": "execute_result"
    }
   ],
   "source": [
    "first_day = \"Monday\"\n",
    "second_day = \"Tuesday\"\n",
    "\n",
    "#format function\n",
    "\n",
    "\"First day is  and Second day is {}\".format(first_day,second_day)"
   ]
  },
  {
   "cell_type": "code",
   "execution_count": 34,
   "id": "b1731dea",
   "metadata": {},
   "outputs": [],
   "source": [
    "str2 = \"day\""
   ]
  },
  {
   "cell_type": "code",
   "execution_count": 35,
   "id": "6d7bb592",
   "metadata": {},
   "outputs": [
    {
     "data": {
      "text/plain": [
       "'daydaydaydayday'"
      ]
     },
     "execution_count": 35,
     "metadata": {},
     "output_type": "execute_result"
    }
   ],
   "source": [
    "str2*5"
   ]
  },
  {
   "cell_type": "code",
   "execution_count": 37,
   "id": "4e62aac4",
   "metadata": {},
   "outputs": [
    {
     "data": {
      "text/plain": [
       "'day5'"
      ]
     },
     "execution_count": 37,
     "metadata": {},
     "output_type": "execute_result"
    }
   ],
   "source": [
    "str2+str(5)"
   ]
  },
  {
   "cell_type": "code",
   "execution_count": 38,
   "id": "a716c6db",
   "metadata": {},
   "outputs": [
    {
     "ename": "TypeError",
     "evalue": "unsupported operand type(s) for /: 'str' and 'int'",
     "output_type": "error",
     "traceback": [
      "\u001b[1;31m---------------------------------------------------------------------------\u001b[0m",
      "\u001b[1;31mTypeError\u001b[0m                                 Traceback (most recent call last)",
      "\u001b[1;32m~\\AppData\\Local\\Temp\\ipykernel_13596\\2006175075.py\u001b[0m in \u001b[0;36m<module>\u001b[1;34m\u001b[0m\n\u001b[1;32m----> 1\u001b[1;33m \u001b[0mstr2\u001b[0m\u001b[1;33m/\u001b[0m\u001b[1;36m7\u001b[0m\u001b[1;33m\u001b[0m\u001b[1;33m\u001b[0m\u001b[0m\n\u001b[0m",
      "\u001b[1;31mTypeError\u001b[0m: unsupported operand type(s) for /: 'str' and 'int'"
     ]
    }
   ],
   "source": [
    "str2/7"
   ]
  },
  {
   "cell_type": "markdown",
   "id": "10b506f8",
   "metadata": {},
   "source": [
    "# Relational Opertors in Python\n",
    "\n",
    "1. ==  Is Equal To\n",
    "2. >=  Is Greater than or Equal to\n",
    "3. <=  Is Less than Equal to\n",
    "4. >  Is Greater than\n",
    "5. <  Is Less than \n",
    "6. != NotEqual to \n"
   ]
  },
  {
   "cell_type": "code",
   "execution_count": 40,
   "id": "f3bfd055",
   "metadata": {},
   "outputs": [
    {
     "data": {
      "text/plain": [
       "False"
      ]
     },
     "execution_count": 40,
     "metadata": {},
     "output_type": "execute_result"
    }
   ],
   "source": [
    "10 == 10\n",
    "10 =='10'"
   ]
  },
  {
   "cell_type": "code",
   "execution_count": 41,
   "id": "41d30021",
   "metadata": {},
   "outputs": [
    {
     "data": {
      "text/plain": [
       "False"
      ]
     },
     "execution_count": 41,
     "metadata": {},
     "output_type": "execute_result"
    }
   ],
   "source": [
    "10 > 20"
   ]
  },
  {
   "cell_type": "code",
   "execution_count": 42,
   "id": "0df9ecca",
   "metadata": {},
   "outputs": [
    {
     "data": {
      "text/plain": [
       "True"
      ]
     },
     "execution_count": 42,
     "metadata": {},
     "output_type": "execute_result"
    }
   ],
   "source": [
    "10 != 20"
   ]
  },
  {
   "cell_type": "code",
   "execution_count": 43,
   "id": "2cf9adfb",
   "metadata": {},
   "outputs": [
    {
     "data": {
      "text/plain": [
       "True"
      ]
     },
     "execution_count": 43,
     "metadata": {},
     "output_type": "execute_result"
    }
   ],
   "source": [
    "(2+3) >= (4+1)"
   ]
  },
  {
   "cell_type": "markdown",
   "id": "32253384",
   "metadata": {},
   "source": [
    "# Boolean Operators in Python \n",
    "\n",
    "1. and - Return True if both operands are True , else False\n",
    "2. or - Return True if one of the operands is true , else False\n",
    "3. not - Return value opposite to the truth value of the expression"
   ]
  },
  {
   "cell_type": "code",
   "execution_count": 44,
   "id": "882fc139",
   "metadata": {},
   "outputs": [
    {
     "name": "stdout",
     "output_type": "stream",
     "text": [
      "False\n"
     ]
    }
   ],
   "source": [
    "#and operator\n",
    "print(True and False)"
   ]
  },
  {
   "cell_type": "code",
   "execution_count": 45,
   "id": "2dc82a83",
   "metadata": {},
   "outputs": [
    {
     "name": "stdout",
     "output_type": "stream",
     "text": [
      "True\n"
     ]
    }
   ],
   "source": [
    "#or operator\n",
    "print(True or False)"
   ]
  },
  {
   "cell_type": "code",
   "execution_count": 46,
   "id": "58741a43",
   "metadata": {},
   "outputs": [
    {
     "name": "stdout",
     "output_type": "stream",
     "text": [
      "True\n"
     ]
    }
   ],
   "source": [
    "#not operator\n",
    "print(not False)"
   ]
  },
  {
   "cell_type": "code",
   "execution_count": null,
   "id": "4861c207",
   "metadata": {},
   "outputs": [],
   "source": [
    "to "
   ]
  }
 ],
 "metadata": {
  "kernelspec": {
   "display_name": "Python 3 (ipykernel)",
   "language": "python",
   "name": "python3"
  },
  "language_info": {
   "codemirror_mode": {
    "name": "ipython",
    "version": 3
   },
   "file_extension": ".py",
   "mimetype": "text/x-python",
   "name": "python",
   "nbconvert_exporter": "python",
   "pygments_lexer": "ipython3",
   "version": "3.9.13"
  }
 },
 "nbformat": 4,
 "nbformat_minor": 5
}
