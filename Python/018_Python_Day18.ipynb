{
 "cells": [
  {
   "attachments": {
    "image.png": {
     "image/png": "[encoded data removed]"
    }
   },
   "cell_type": "markdown",
   "id": "2988c2db",
   "metadata": {},
   "source": [
    " # Files in Python \n",
    " \n",
    " ![image.png](attachment:image.png)"
   ]
  },
  {
   "cell_type": "code",
   "execution_count": 194,
   "id": "86a842f5",
   "metadata": {},
   "outputs": [],
   "source": [
    "f = open('meta1.txt','w')"
   ]
  },
  {
   "cell_type": "code",
   "execution_count": 195,
   "id": "7e9f4785",
   "metadata": {},
   "outputs": [
    {
     "data": {
      "text/plain": [
       "'C:\\\\Users\\\\Asus'"
      ]
     },
     "execution_count": 195,
     "metadata": {},
     "output_type": "execute_result"
    }
   ],
   "source": [
    "pwd  #present work directory"
   ]
  },
  {
   "cell_type": "code",
   "execution_count": 196,
   "id": "ac5e9b95",
   "metadata": {},
   "outputs": [
    {
     "name": "stdout",
     "output_type": "stream",
     "text": [
      " Volume in drive C is OS\n",
      " Volume Serial Number is FE65-7545\n",
      "\n",
      " Directory of C:\\Users\\Asus\n",
      "\n",
      "04-02-2024  08.30 AM    <DIR>          .\n",
      "31-01-2024  12.12 PM    <DIR>          ..\n",
      "13-01-2024  11.12 PM    <DIR>          .anaconda\n",
      "14-11-2023  07.37 PM    <DIR>          .astropy\n",
      "14-11-2023  08.01 PM    <DIR>          .cache\n",
      "03-02-2024  07.36 PM    <DIR>          .conda\n",
      "07-10-2023  11.19 AM                25 .condarc\n",
      "03-07-2020  07.47 PM    <DIR>          .config\n",
      "06-07-2023  04.33 PM    <DIR>          .continuum\n",
      "22-05-2021  01.31 PM    <DIR>          .eclipse\n",
      "03-07-2020  03.33 PM                16 .emulator_console_auth_token\n",
      "08-01-2024  01.56 PM                71 .gitconfig\n",
      "03-07-2020  02.50 PM    <DIR>          .gradle\n",
      "26-06-2020  10.34 PM    <DIR>          .groovy\n",
      "03-02-2024  07.24 PM    <DIR>          .ipynb_checkpoints\n",
      "28-11-2022  01.01 PM    <DIR>          .ipython\n",
      "01-11-2023  06.37 PM    <DIR>          .jupyter\n",
      "03-07-2020  08.21 PM    <DIR>          .katalon\n",
      "17-01-2024  01.50 PM    <DIR>          .keras\n",
      "23-05-2022  07.29 PM    <DIR>          .m2\n",
      "04-07-2023  07.19 PM    <DIR>          .matplotlib\n",
      "02-07-2022  04.45 PM    <DIR>          .ms-ad\n",
      "24-08-2022  04.48 PM    <DIR>          .p2\n",
      "17-11-2023  07.27 AM    <DIR>          .pytest_cache\n",
      "07-10-2023  11.22 AM    <DIR>          .spyder-py3\n",
      "26-06-2020  09.26 PM    <DIR>          .tooling\n",
      "23-09-2023  08.35 AM    <DIR>          .vscode\n",
      "25-11-2023  12.42 PM    <DIR>          __pycache__\n",
      "30-01-2024  12.16 AM            12,212 0_Python_Day14.ipynb\n",
      "28-01-2024  06.35 PM             2,318 006_Python Assignment_006.ipynb\n",
      "20-01-2024  12.52 PM            85,627 006_Python_Day06.ipynb\n",
      "21-01-2024  02.16 PM           637,995 007_Python_Day07.ipynb\n",
      "22-01-2024  05.05 PM           492,659 008_Python_Day08.ipynb\n",
      "23-01-2024  01.59 AM           140,312 009_Python_Day09.ipynb\n",
      "23-01-2024  11.53 PM           195,730 010_Python_Day10.ipynb\n",
      "25-01-2024  01.41 PM           118,834 011_Python_Day11.ipynb\n",
      "27-01-2024  07.43 PM           220,765 012_Python_Day12.ipynb\n",
      "29-01-2024  02.27 PM            11,019 013_Python_Day13.ipynb\n",
      "31-01-2024  02.22 PM            13,500 014_Python_Day14.ipynb\n",
      "31-01-2024  07.38 PM             7,554 015_Python_Day15.ipynb\n",
      "02-02-2024  11.33 AM            14,167 016_Python_Day16.ipynb\n",
      "03-02-2024  11.09 AM            19,833 017_Python_Day17.ipynb\n",
      "04-02-2024  08.30 AM            23,302 018_Python_Day18.ipynb\n",
      "01-11-2023  06.46 PM           100,951 1.0-winequality-red.csv\n",
      "03-01-2022  07.08 PM             6,959 -1.14-windows.xml\n",
      "22-10-2021  06.34 PM    <DIR>          3D Objects\n",
      "18-01-2024  02.39 PM        13,663,031 8_Regression_using_ANN.ipynb\n",
      "03-01-2024  08.26 PM             7,600 AdaboostGradientAnd Xgboost.ipynb\n",
      "07-10-2023  03.53 PM            23,531 Advance pandas part 3.ipynb\n",
      "09-10-2023  06.28 AM           319,463 Advance Pandas part 4.ipynb\n",
      "10-10-2023  10.20 AM           166,069 Advance pandas part 5.ipynb\n",
      "13-11-2023  10.28 PM            15,686 Algerian_forest_fires_cleaned_UPDATE.csv\n",
      "13-11-2023  09.52 PM            15,338 Algerian_forest_fires_dataset_UPDATE.csv\n",
      "13-11-2023  12.41 PM            19,850 Algerian_forest_fires_dataset_UPDATE.xlsx\n",
      "03-02-2024  07.26 PM    <DIR>          anaconda3\n",
      "25-12-2023  01.18 PM               361 anagrams.csv\n",
      "03-07-2020  03.20 PM    <DIR>          AndroidStudioProjects\n",
      "06-10-2023  07.32 AM         1,492,633 annual.csv\n",
      "25-12-2023  01.18 PM               556 anscombe.csv\n",
      "25-11-2023  03.24 PM               995 app.py\n",
      "25-11-2023  12.46 PM             5,415 app.py.ipynb\n",
      "25-12-2023  01.18 PM             1,198 attention.csv\n",
      "31-12-2023  03.11 PM           172,800 Basic SVC Implementation.ipynb\n",
      "31-12-2023  09.48 PM           224,347 Basic SVR Implementation.ipynb\n",
      "25-09-2023  11.48 AM             3,450 Best Practice Exception handling .ipynb\n",
      "11-10-2023  11.07 PM            76,735 bokeh.ipynb\n",
      "25-12-2023  01.18 PM         1,075,911 brain_networks.csv\n",
      "22-09-2023  11.19 AM             2,245 Buffered Read and Write Method.ipynb\n",
      "25-12-2023  01.18 PM             3,301 car_crashes.csv\n",
      "25-10-2023  06.00 PM             4,000 Chi Square Test.ipynb\n",
      "17-08-2023  08.14 AM            11,911 Class Method.ipynb\n",
      "07-07-2023  06.14 PM             5,361 Compenrihensive.ipynb\n",
      "13-11-2022  09.45 AM    <DIR>          Contacts\n",
      "21-09-2023  10.26 AM               146 copy_new.txt\n",
      "01-11-2023  05.04 PM            17,135 Covariance and Correlation .ipynb\n",
      "24-09-2023  11.59 AM             2,015 Custom Exception Handling.ipynb\n",
      "31-10-2023  01.21 PM            80,900 Data Interpolation.ipynb\n",
      "16-10-2023  05.40 PM           438,304 Data Visualization- Matplotlib .ipynb\n",
      "16-10-2023  01.50 PM           553,921 Data Visualization- Matplotlib 1.ipynb\n",
      "21-09-2023  11.52 AM                95 data.csv\n",
      "21-09-2023  11.18 AM               144 data.json\n",
      "02-11-2023  04.06 PM           530,389 Data_Train.xlsx\n",
      "25-12-2023  01.18 PM               174 dataset_names.txt\n",
      "25-12-2023  07.13 PM           383,137 Decision Tree Classifier.ipynb\n",
      "27-12-2023  12.01 PM            16,385 Decision Tree Regressor.ipynb\n",
      "09-08-2023  07.33 PM             4,719 decorater.ipynb\n",
      "25-12-2023  01.18 PM         2,772,143 diamonds.csv\n",
      "03-07-2023  08.53 PM    <DIR>          Documents\n",
      "25-12-2023  01.18 PM            25,742 dots.csv\n",
      "25-12-2023  01.18 PM            11,349 dowjones.csv\n",
      "03-02-2024  11.35 PM    <DIR>          Downloads\n",
      "22-05-2021  01.31 PM    <DIR>          eclipse\n",
      "23-05-2022  07.30 PM    <DIR>          eclipse-workspace\n",
      "10-07-2020  10.59 PM    <DIR>          eclipse-workspaceNew\n",
      "14-11-2023  10.16 AM           472,050 EDA and FE Algerian Forest .ipynb\n",
      "02-11-2023  09.25 PM            87,252 EDA and Feature Engineering Flight Price Prediction.ipynb\n",
      "03-11-2023  07.57 PM           623,363 EDA Google Playstore.ipynb\n",
      "02-11-2023  09.39 AM           733,039 EDA Student Performance Indicator.ipynb\n",
      "01-11-2023  07.31 PM           523,428 EDA with Red Wine Data.ipynb\n",
      "17-12-2023  12.44 PM               589 End To End Project Deployment .ipynb\n",
      "25-09-2023  11.43 AM               208 error.log\n",
      "25-12-2023  01.18 PM             2,735 exercise.csv\n",
      "24-09-2023  12.27 PM             7,606 Expections Handling with try except.ipynb\n",
      "13-11-2022  09.45 AM    <DIR>          Favorites\n",
      "21-09-2023  12.00 PM             4,327 File reading and writing.ipynb\n",
      "02-11-2023  04.03 PM            14,987 flight_price.xlsx\n",
      "25-12-2023  01.18 PM             2,350 flights.csv\n",
      "25-12-2023  01.18 PM            38,329 fmri.csv\n",
      "08-07-2023  02.17 PM            27,258 For Loop.ipynb\n",
      "25-01-2024  12.08 AM           105,952 Function Basic.ipynb\n",
      "08-07-2023  02.03 PM       205,556,143 Functions.ipynb\n",
      "09-07-2023  11.18 AM             9,687 Generator Function.ipynb\n",
      "25-12-2023  01.18 PM             4,199 geyser.csv\n",
      "25-12-2023  01.18 PM             2,054 glue.csv\n",
      "02-11-2023  10.11 PM         1,360,155 googleplaystore.csv\n",
      "02-11-2023  09.43 PM         1,271,351 googleplaystore_a.csv\n",
      "31-10-2023  04.36 PM            20,492 Handing Outliers.ipynb\n",
      "30-10-2023  04.55 PM            20,203 Handling Imbalanced Dataset.ipynb\n",
      "25-12-2023  01.18 PM             7,222 healthexp.csv\n",
      "06-11-2023  08.03 PM               201 height-weight.csv\n",
      "22-11-2021  04.59 PM    <DIR>          IBA_IOAPDATA\n",
      "04-10-2023  01.58 PM             3,922 image scrapping.ipynb\n",
      "04-10-2023  01.47 PM    <DIR>          images\n",
      "17-01-2024  06.06 PM           265,298 Implementation of ANN using keras.ipynb\n",
      "09-08-2023  05.15 PM             5,158 Inheritance.ipynb\n",
      "25-12-2023  01.18 PM             3,858 iris.csv\n",
      "06-10-2023  07.53 AM            23,030 Jan_data.xlsx\n",
      "07-10-2023  11.21 AM    <DIR>          Jedi\n",
      "23-09-2023  12.17 PM                18 jitu.txt\n",
      "23-09-2023  12.23 PM                18 jitu3.txt\n",
      "23-09-2023  12.26 PM                 0 jitu5.txt\n",
      "04-01-2024  06.31 PM           150,824 K means Cluster.ipynb\n",
      "03-01-2024  10.37 PM             5,183 KNN Classifier .ipynb\n",
      "01-11-2023  02.52 PM             7,093 Label and Ordinal Encoding.ipynb\n",
      "10-07-2023  06.59 AM             3,878 Lamda function.ipynb\n",
      "11-10-2023  11.01 PM             8,621 line.html\n",
      "11-10-2023  11.07 PM            16,392 line2.html\n",
      "13-11-2022  09.45 AM    <DIR>          Links\n",
      "25-09-2023  11.09 AM             5,135 List Of General Use Exceptior.ipynb\n",
      "22-09-2023  01.29 PM             6,268 loggingDebugger.ipynb\n",
      "08-12-2023  11.21 AM            25,596 Logistic Regression Implementation.ipynb\n",
      "18-01-2024  02.35 PM    <DIR>          logs\n",
      "10-07-2023  08.15 AM             7,829 Map, reduce, filter function.ipynb\n",
      "13-10-2023  11.22 AM           452,845 matplotlib part 1 .ipynb\n",
      "17-10-2023  05.02 PM            22,645 Measure Of Central Tendency - Part 1 .ipynb\n",
      "17-10-2023  06.13 PM           117,928 Measure Of Dispersion.ipynb\n",
      "04-02-2024  08.28 AM                 0 meta1.txt\n",
      "27-10-2023  07.00 PM           138,680 Missing Values.ipynb\n",
      "27-09-2023  04.21 PM            26,582 mongoDB.ipynb\n",
      "25-12-2023  01.18 PM            21,222 mpg.csv\n",
      "07-11-2023  12.52 PM           160,359 Multiple Linear Regression.ipynb\n",
      "26-09-2023  11.26 AM             1,555 Multiprocessing.ipynb\n",
      "25-09-2023  11.15 PM             9,091 Multithreading.ipynb\n",
      "01-07-2023  05.05 PM    <DIR>          Music\n",
      "18-01-2024  02.37 PM            36,832 my_keras_model.h5\n",
      "31-12-2023  11.50 PM            11,222 Navie Bayes.ipynb\n",
      "21-09-2023  10.22 AM               146 new.txt\n",
      "04-02-2024  08.28 AM                13 nlp.txt\n",
      "01-11-2023  12.54 PM             9,915 Nominal - OHE Encoding.ipynb\n",
      "01-11-2023  11.14 AM             9,866 Normalization - Min Max Scaler.ipynb\n",
      "11-10-2023  07.40 AM            22,678 numpy Part - 2.ipynb\n",
      "11-10-2023  08.19 AM            14,146 numpy Part - 3.ipynb\n",
      "11-10-2023  06.50 AM            56,221 Numpy Part-1.ipynb\n",
      "02-02-2024  11.33 AM    <DIR>          OneDrive\n",
      "01-11-2023  07.31 PM            21,162 Outliers.ipynb\n",
      "07-10-2023  01.33 PM           207,497 Pandas Advance Part 1 .ipynb\n",
      "06-10-2023  12.23 PM           132,005 pandas.ipynb\n",
      "25-12-2023  01.18 PM            13,478 penguins.csv\n",
      "25-12-2023  01.18 PM            36,263 planets.csv\n",
      "06-10-2023  11.05 AM            78,958 players_data.csv\n",
      "11-10-2023  10.34 PM           424,611 plotly .ipynb\n",
      "19-07-2023  06.53 AM             3,560 Polymorphism.ipynb\n",
      "29-09-2023  12.37 AM    <DIR>          Postman\n",
      "24-08-2023  07.58 AM             5,780 Property Decorators Getters, Setters, And Deletes.ipynb\n",
      "25-11-2023  03.41 PM    <DIR>          PycharmProjects\n",
      "19-01-2024  02.31 PM            46,427 Python Basic Day 02.ipynb\n",
      "17-01-2024  01.24 PM            14,235 Python Basic Day 3.ipynb\n",
      "03-12-2022  11.45 AM            11,622 Python Basic.ipynb\n",
      "19-01-2024  02.31 PM            12,008 Python Day 01 - Introduction.ipynb\n",
      "29-01-2024  03.14 PM             8,776 python day 014.ipynb\n",
      "19-01-2024  02.31 PM            32,145 Python Day 04 - Lists.ipynb\n",
      "19-01-2024  02.31 PM           353,522 Python Day 05 - Tuples and Sets .ipynb\n",
      "03-12-2022  10.27 PM            15,126 Python -Day 2.ipynb\n",
      "04-12-2022  11.04 AM            15,352 Python Day-3 (Sets, dict, tuple).ipynb\n",
      "04-12-2022  06.37 PM            15,315 Python Day-4 (Numpy).ipynb\n",
      "24-07-2023  04.52 PM             6,842 Python-encap.ipynb\n",
      "01-01-2024  07.04 PM            27,716 Random Forest Classifier.ipynb\n",
      "25-12-2023  01.18 PM             1,926 README.md\n",
      "07-11-2023  12.45 PM               587 regression.pkl\n",
      "25-11-2023  05.18 PM            14,684 Rest_API.ipynb\n",
      "10-10-2023  02.53 PM           363,792 sample.csv\n",
      "13-11-2022  09.45 AM    <DIR>          Saved Games\n",
      "07-11-2023  12.45 PM               818 scaler.pkl\n",
      "07-11-2023  09.28 AM    <DIR>          scikit_learn_data\n",
      "04-07-2023  07.20 PM    <DIR>          seaborn-data\n",
      "25-12-2023  01.18 PM           231,046 seaice.csv\n",
      "13-11-2022  09.45 AM    <DIR>          Searches\n",
      "06-10-2023  06.59 AM             2,121 services.csv\n",
      "25-11-2023  12.08 PM                 0 set\n",
      "07-11-2023  09.08 AM            75,280 Simple Linear Regression.ipynb\n",
      "30-10-2023  05.46 PM           162,508 smote.ipynb\n",
      "24-08-2023  07.25 AM             8,054 Special (Magic Dunder) Methods.ipynb\n",
      "17-08-2023  08.14 AM             3,924 Statics Method.ipynb\n",
      "01-11-2023  10.44 PM            72,036 StudentsPerformance.csv\n",
      "25-09-2023  11.47 AM                23 sudh.txt\n",
      "31-12-2023  09.54 PM         3,973,883 SVM Kernel Practical Implementation.ipynb\n",
      "01-11-2023  04.05 PM            15,333 Target Guided Ordinal Encoding.ipynb\n",
      "25-12-2023  01.17 PM           869,349 taxis.csv\n",
      "11-10-2023  10.55 PM             8,898 test.html\n",
      "22-09-2023  12.03 PM               873 test.log\n",
      "25-09-2023  10.28 PM            12,062 test.txt\n",
      "25-11-2023  03.35 PM               170 test_apidemo.py\n",
      "22-09-2023  12.31 PM             3,305 test1.log\n",
      "22-09-2023  11.13 AM               335 test1.txt\n",
      "22-09-2023  01.29 PM             8,168 test2.log\n",
      "21-09-2023  11.59 AM                 9 test4.bin\n",
      "03-02-2024  08.04 PM                26 text1.txt\n",
      "03-02-2024  08.31 PM                 0 text2.txt\n",
      "06-01-2024  09.58 PM           380,436 Time Series EDA.ipynb\n",
      "25-12-2023  01.18 PM             9,729 tips.csv\n",
      "25-12-2023  01.17 PM            57,018 titanic.csv\n",
      "05-01-2024  10.49 PM            70,756 TSLA.CSV\n",
      "01-11-2023  11.34 AM            20,104 Unit Vector - Feature Scaling.ipynb\n",
      "06-10-2023  07.27 AM    <DIR>          Untitled Folder\n",
      "03-12-2022  10.08 PM            15,354 Untitled.ipynb\n",
      "28-11-2022  01.00 PM                 0 untitled.txt\n",
      "28-11-2022  01.15 PM                72 Untitled1.ipynb\n",
      "09-08-2023  04.40 PM               565 Untitled10.ipynb\n",
      "09-08-2023  06.11 PM             2,973 Untitled11.ipynb\n",
      "14-08-2023  07.06 AM               589 Untitled12.ipynb\n",
      "14-09-2023  10.27 AM               589 Untitled13.ipynb\n",
      "26-09-2023  11.29 AM                72 Untitled14.ipynb\n",
      "29-09-2023  05.39 PM             2,409 Untitled15.ipynb\n",
      "02-10-2023  12.11 PM               589 Untitled16.ipynb\n",
      "06-10-2023  12.09 PM                72 Untitled17.ipynb\n",
      "06-10-2023  12.09 PM                72 Untitled18.ipynb\n",
      "11-10-2023  06.47 PM           194,425 Untitled19.ipynb\n",
      "04-12-2022  11.02 AM            15,352 Untitled2.ipynb\n",
      "16-10-2023  02.51 PM            21,555 Untitled20.ipynb\n",
      "20-10-2023  09.59 AM            18,329 Untitled21.ipynb\n",
      "26-10-2023  05.11 PM             3,054 Untitled22.ipynb\n",
      "02-11-2023  10.11 PM            24,821 Untitled23.ipynb\n",
      "01-11-2023  10.44 PM                72 Untitled24.ipynb\n",
      "07-11-2023  12.07 PM            13,669 Untitled25.ipynb\n",
      "08-11-2023  11.33 AM             7,766 Untitled26.ipynb\n",
      "23-11-2023  11.39 AM             1,127 Untitled27.ipynb\n",
      "13-11-2023  12.41 PM                72 Untitled28.ipynb\n",
      "13-11-2023  12.46 PM                72 Untitled29.ipynb\n",
      "04-12-2022  11.06 AM               321 Untitled3.ipynb\n",
      "25-11-2023  03.49 PM             2,733 Untitled30.ipynb\n",
      "02-02-2024  11.24 PM               589 Untitled31.ipynb\n",
      "14-01-2024  09.32 PM             1,574 Untitled32.ipynb\n",
      "04-07-2023  08.03 PM           100,510 Untitled4.ipynb\n",
      "06-07-2023  05.05 PM             4,392 Untitled5.ipynb\n",
      "06-07-2023  06.02 PM               589 Untitled6.ipynb\n",
      "12-07-2023  12.25 PM             8,688 Untitled7.ipynb\n",
      "16-07-2023  10.47 AM               589 Untitled8.ipynb\n",
      "19-07-2023  07.25 AM             3,658 Untitled9.ipynb\n",
      "03-07-2023  08.45 PM    <DIR>          Videos\n",
      "25-06-2021  02.53 PM    <DIR>          webdriverio\n",
      "29-09-2023  03.09 PM           198,917 WebScrapping.ipynb\n",
      "07-07-2023  04.20 PM             7,705 While loop.ipynb\n",
      "01-11-2023  06.36 PM            84,199 winequality-red.csv\n",
      "21-09-2023  10.30 AM            16,514 Working with files.ipynb\n",
      "             213 File(s)    245,401,882 bytes\n",
      "              51 Dir(s)  77,323,771,904 bytes free\n"
     ]
    }
   ],
   "source": [
    "ls"
   ]
  },
  {
   "cell_type": "code",
   "execution_count": 197,
   "id": "839f18ec",
   "metadata": {},
   "outputs": [
    {
     "data": {
      "text/plain": [
       "53"
      ]
     },
     "execution_count": 197,
     "metadata": {},
     "output_type": "execute_result"
    }
   ],
   "source": [
    "# write mode\n",
    "f.write(\"Hello All Welcome To Our Youtube Channel Datascilearn\")"
   ]
  },
  {
   "cell_type": "code",
   "execution_count": 198,
   "id": "ece950be",
   "metadata": {},
   "outputs": [],
   "source": [
    "f.close()"
   ]
  },
  {
   "cell_type": "code",
   "execution_count": 199,
   "id": "ed56fe44",
   "metadata": {},
   "outputs": [],
   "source": [
    "f = open('meta2.txt','w')"
   ]
  },
  {
   "cell_type": "code",
   "execution_count": 200,
   "id": "63e8181f",
   "metadata": {},
   "outputs": [
    {
     "data": {
      "text/plain": [
       "26"
      ]
     },
     "execution_count": 200,
     "metadata": {},
     "output_type": "execute_result"
    }
   ],
   "source": [
    "f.write(\"This is my youtube channel\")"
   ]
  },
  {
   "cell_type": "code",
   "execution_count": 201,
   "id": "2c4f4070",
   "metadata": {},
   "outputs": [],
   "source": [
    "f.close()"
   ]
  },
  {
   "cell_type": "code",
   "execution_count": 202,
   "id": "ace3297c",
   "metadata": {},
   "outputs": [
    {
     "ename": "ValueError",
     "evalue": "I/O operation on closed file.",
     "output_type": "error",
     "traceback": [
      "\u001b[1;31m---------------------------------------------------------------------------\u001b[0m",
      "\u001b[1;31mValueError\u001b[0m                                Traceback (most recent call last)",
      "\u001b[1;32m~\\AppData\\Local\\Temp\\ipykernel_19356\\3059900045.py\u001b[0m in \u001b[0;36m<module>\u001b[1;34m\u001b[0m\n\u001b[1;32m----> 1\u001b[1;33m \u001b[0mf\u001b[0m\u001b[1;33m.\u001b[0m\u001b[0mread\u001b[0m\u001b[1;33m(\u001b[0m\u001b[1;33m)\u001b[0m\u001b[1;33m\u001b[0m\u001b[1;33m\u001b[0m\u001b[0m\n\u001b[0m",
      "\u001b[1;31mValueError\u001b[0m: I/O operation on closed file."
     ]
    }
   ],
   "source": [
    "f.read()"
   ]
  },
  {
   "cell_type": "code",
   "execution_count": 203,
   "id": "8f5a62fa",
   "metadata": {},
   "outputs": [],
   "source": [
    "f = open('meta2.txt','r')"
   ]
  },
  {
   "cell_type": "code",
   "execution_count": 204,
   "id": "b7b4eade",
   "metadata": {},
   "outputs": [
    {
     "data": {
      "text/plain": [
       "'This is my youtube channel'"
      ]
     },
     "execution_count": 204,
     "metadata": {},
     "output_type": "execute_result"
    }
   ],
   "source": [
    "f.read()"
   ]
  },
  {
   "cell_type": "code",
   "execution_count": 213,
   "id": "9b31739b",
   "metadata": {},
   "outputs": [],
   "source": [
    "f = open('datascience1.txt','w')"
   ]
  },
  {
   "cell_type": "code",
   "execution_count": 214,
   "id": "ca8e3440",
   "metadata": {},
   "outputs": [
    {
     "data": {
      "text/plain": [
       "783"
      ]
     },
     "execution_count": 214,
     "metadata": {},
     "output_type": "execute_result"
    }
   ],
   "source": [
    "f.write(\"DataSciLearn is a channel dedicated to providing high-quality learning content for data science enthusiasts and practitioners. The channel covers various topics related to data science, including data analysis, data visualization, machine learning, deep learning, natural language processing, and more.Stay Motivated and Keep Learning. This repository contains day-wise notes and code snippets for our comprehensive crash course on Data Science. This comprehensive crash course is designed to provide you with a solid foundation in data science using Python. Each day covers key topics, hands-on exercises, and practical examples to help you master essential concepts in a step-by-step manner, laying the foundation for a successful journey into the world of data science and Gen AI.\")"
   ]
  },
  {
   "cell_type": "code",
   "execution_count": 215,
   "id": "641f424b",
   "metadata": {},
   "outputs": [],
   "source": [
    "f.close()"
   ]
  },
  {
   "cell_type": "code",
   "execution_count": 218,
   "id": "ddfcfe74",
   "metadata": {},
   "outputs": [],
   "source": [
    "f = open('datascience1.txt','a')"
   ]
  },
  {
   "cell_type": "code",
   "execution_count": 219,
   "id": "d2f7d0a0",
   "metadata": {},
   "outputs": [
    {
     "data": {
      "text/plain": [
       "31"
      ]
     },
     "execution_count": 219,
     "metadata": {},
     "output_type": "execute_result"
    }
   ],
   "source": [
    "f.write(\"Please Subscribe to our channel\")"
   ]
  },
  {
   "cell_type": "code",
   "execution_count": 220,
   "id": "fbd1980e",
   "metadata": {},
   "outputs": [],
   "source": [
    "f.close()"
   ]
  },
  {
   "cell_type": "code",
   "execution_count": 221,
   "id": "d01f3067",
   "metadata": {},
   "outputs": [],
   "source": [
    "f = open('meta1.txt','a')"
   ]
  },
  {
   "cell_type": "code",
   "execution_count": 222,
   "id": "758be4a1",
   "metadata": {},
   "outputs": [
    {
     "data": {
      "text/plain": [
       "24"
      ]
     },
     "execution_count": 222,
     "metadata": {},
     "output_type": "execute_result"
    }
   ],
   "source": [
    "f.write(\"Let's Learn data science\")"
   ]
  },
  {
   "cell_type": "code",
   "execution_count": 223,
   "id": "fa1e162c",
   "metadata": {},
   "outputs": [],
   "source": [
    "f.close()"
   ]
  },
  {
   "cell_type": "code",
   "execution_count": 224,
   "id": "fca4a0c0",
   "metadata": {},
   "outputs": [],
   "source": [
    "f = open('datascience1.txt','r')"
   ]
  },
  {
   "cell_type": "code",
   "execution_count": 225,
   "id": "8edefe71",
   "metadata": {},
   "outputs": [
    {
     "data": {
      "text/plain": [
       "'DataSciLearn is a channel dedicated to providing high-quality learning content for data science enthusiasts and practitioners. The channel covers various topics related to data science, including data analysis, data visualization, machine learning, deep learning, natural language processing, and more.Stay Motivated and Keep Learning. This repository contains day-wise notes and code snippets for our comprehensive crash course on Data Science. This comprehensive crash course is designed to provide you with a solid foundation in data science using Python. Each day covers key topics, hands-on exercises, and practical examples to help you master essential concepts in a step-by-step manner, laying the foundation for a successful journey into the world of data science and Gen AI.Please Subscribe to our channel'"
      ]
     },
     "execution_count": 225,
     "metadata": {},
     "output_type": "execute_result"
    }
   ],
   "source": [
    "f.read()"
   ]
  },
  {
   "cell_type": "code",
   "execution_count": 226,
   "id": "90bdbe4f",
   "metadata": {},
   "outputs": [
    {
     "data": {
      "text/plain": [
       "''"
      ]
     },
     "execution_count": 226,
     "metadata": {},
     "output_type": "execute_result"
    }
   ],
   "source": [
    "f.read()"
   ]
  },
  {
   "cell_type": "code",
   "execution_count": 227,
   "id": "d638ec2a",
   "metadata": {},
   "outputs": [
    {
     "data": {
      "text/plain": [
       "0"
      ]
     },
     "execution_count": 227,
     "metadata": {},
     "output_type": "execute_result"
    }
   ],
   "source": [
    "f.seek(0)"
   ]
  },
  {
   "cell_type": "code",
   "execution_count": 228,
   "id": "fd0183ca",
   "metadata": {},
   "outputs": [
    {
     "data": {
      "text/plain": [
       "'DataSciLearn is a channel dedicated to providing high-quality learning content for data science enthusiasts and practitioners. The channel covers various topics related to data science, including data analysis, data visualization, machine learning, deep learning, natural language processing, and more.Stay Motivated and Keep Learning. This repository contains day-wise notes and code snippets for our comprehensive crash course on Data Science. This comprehensive crash course is designed to provide you with a solid foundation in data science using Python. Each day covers key topics, hands-on exercises, and practical examples to help you master essential concepts in a step-by-step manner, laying the foundation for a successful journey into the world of data science and Gen AI.Please Subscribe to our channel'"
      ]
     },
     "execution_count": 228,
     "metadata": {},
     "output_type": "execute_result"
    }
   ],
   "source": [
    "f.read()"
   ]
  },
  {
   "cell_type": "code",
   "execution_count": 229,
   "id": "a82f2aab",
   "metadata": {},
   "outputs": [
    {
     "data": {
      "text/plain": [
       "''"
      ]
     },
     "execution_count": 229,
     "metadata": {},
     "output_type": "execute_result"
    }
   ],
   "source": [
    "f.readline()"
   ]
  },
  {
   "cell_type": "code",
   "execution_count": 230,
   "id": "d2408e1c",
   "metadata": {},
   "outputs": [
    {
     "data": {
      "text/plain": [
       "10"
      ]
     },
     "execution_count": 230,
     "metadata": {},
     "output_type": "execute_result"
    }
   ],
   "source": [
    "f.seek(10)"
   ]
  },
  {
   "cell_type": "code",
   "execution_count": 231,
   "id": "48fae085",
   "metadata": {},
   "outputs": [
    {
     "data": {
      "text/plain": [
       "'rn is a channel dedicated to providing high-quality learning content for data science enthusiasts and practitioners. The channel covers various topics related to data science, including data analysis, data visualization, machine learning, deep learning, natural language processing, and more.Stay Motivated and Keep Learning. This repository contains day-wise notes and code snippets for our comprehensive crash course on Data Science. This comprehensive crash course is designed to provide you with a solid foundation in data science using Python. Each day covers key topics, hands-on exercises, and practical examples to help you master essential concepts in a step-by-step manner, laying the foundation for a successful journey into the world of data science and Gen AI.Please Subscribe to our channel'"
      ]
     },
     "execution_count": 231,
     "metadata": {},
     "output_type": "execute_result"
    }
   ],
   "source": [
    "f.readline()"
   ]
  },
  {
   "cell_type": "code",
   "execution_count": 232,
   "id": "993971f2",
   "metadata": {},
   "outputs": [
    {
     "data": {
      "text/plain": [
       "100"
      ]
     },
     "execution_count": 232,
     "metadata": {},
     "output_type": "execute_result"
    }
   ],
   "source": [
    "f.seek(100)"
   ]
  },
  {
   "cell_type": "code",
   "execution_count": 233,
   "id": "74253751",
   "metadata": {},
   "outputs": [
    {
     "data": {
      "text/plain": [
       "'usiasts and practitioners. The channel covers various topics related to data science, including data analysis, data visualization, machine learning, deep learning, natural language processing, and more.Stay Motivated and Keep Learning. This repository contains day-wise notes and code snippets for our comprehensive crash course on Data Science. This comprehensive crash course is designed to provide you with a solid foundation in data science using Python. Each day covers key topics, hands-on exercises, and practical examples to help you master essential concepts in a step-by-step manner, laying the foundation for a successful journey into the world of data science and Gen AI.Please Subscribe to our channel'"
      ]
     },
     "execution_count": 233,
     "metadata": {},
     "output_type": "execute_result"
    }
   ],
   "source": [
    "f.readline()"
   ]
  },
  {
   "cell_type": "code",
   "execution_count": 235,
   "id": "c627eded",
   "metadata": {},
   "outputs": [
    {
     "data": {
      "text/plain": [
       "0"
      ]
     },
     "execution_count": 235,
     "metadata": {},
     "output_type": "execute_result"
    }
   ],
   "source": [
    "f.seek(0)"
   ]
  },
  {
   "cell_type": "code",
   "execution_count": 236,
   "id": "05fdd5c8",
   "metadata": {},
   "outputs": [
    {
     "name": "stdout",
     "output_type": "stream",
     "text": [
      "DataSciLearn is a channel dedicated to providing high-quality learning content for data science enthusiasts and practitioners. The channel covers various topics related to data science, including data analysis, data visualization, machine learning, deep learning, natural language processing, and more.Stay Motivated and Keep Learning. This repository contains day-wise notes and code snippets for our comprehensive crash course on Data Science. This comprehensive crash course is designed to provide you with a solid foundation in data science using Python. Each day covers key topics, hands-on exercises, and practical examples to help you master essential concepts in a step-by-step manner, laying the foundation for a successful journey into the world of data science and Gen AI.Please Subscribe to our channel\n"
     ]
    }
   ],
   "source": [
    "for i in f:\n",
    "    print(i)"
   ]
  },
  {
   "cell_type": "code",
   "execution_count": 237,
   "id": "f594831b",
   "metadata": {},
   "outputs": [],
   "source": [
    "import os"
   ]
  },
  {
   "cell_type": "code",
   "execution_count": 238,
   "id": "81ec4e07",
   "metadata": {},
   "outputs": [
    {
     "data": {
      "text/plain": [
       "814"
      ]
     },
     "execution_count": 238,
     "metadata": {},
     "output_type": "execute_result"
    }
   ],
   "source": [
    "os.path.getsize('datascience1.txt')"
   ]
  },
  {
   "cell_type": "code",
   "execution_count": 252,
   "id": "5bd9e930",
   "metadata": {},
   "outputs": [],
   "source": [
    "os.remove('datascience1.txt')"
   ]
  },
  {
   "cell_type": "code",
   "execution_count": 241,
   "id": "85013561",
   "metadata": {},
   "outputs": [],
   "source": [
    "f = open('dummy2.txt','w')"
   ]
  },
  {
   "cell_type": "code",
   "execution_count": 242,
   "id": "c2ebb64e",
   "metadata": {},
   "outputs": [
    {
     "data": {
      "text/plain": [
       "20"
      ]
     },
     "execution_count": 242,
     "metadata": {},
     "output_type": "execute_result"
    }
   ],
   "source": [
    "f.write(\"This is a dummy file\")"
   ]
  },
  {
   "cell_type": "code",
   "execution_count": 243,
   "id": "fa2c9151",
   "metadata": {},
   "outputs": [],
   "source": [
    "f.close()"
   ]
  },
  {
   "cell_type": "code",
   "execution_count": 244,
   "id": "6de07942",
   "metadata": {},
   "outputs": [],
   "source": [
    "os.remove('dummy2.txt')"
   ]
  },
  {
   "cell_type": "code",
   "execution_count": 245,
   "id": "189a3db7",
   "metadata": {},
   "outputs": [],
   "source": [
    "f = open('sample4.txt','w')"
   ]
  },
  {
   "cell_type": "code",
   "execution_count": 246,
   "id": "07e0ae61",
   "metadata": {},
   "outputs": [
    {
     "data": {
      "text/plain": [
       "21"
      ]
     },
     "execution_count": 246,
     "metadata": {},
     "output_type": "execute_result"
    }
   ],
   "source": [
    "f.write(\"This is a sample file\")"
   ]
  },
  {
   "cell_type": "code",
   "execution_count": 247,
   "id": "dc95800c",
   "metadata": {},
   "outputs": [],
   "source": [
    "f.close()"
   ]
  },
  {
   "cell_type": "code",
   "execution_count": 248,
   "id": "55ee15a0",
   "metadata": {},
   "outputs": [],
   "source": [
    "os.remove('sample4.txt')"
   ]
  },
  {
   "cell_type": "code",
   "execution_count": 249,
   "id": "77783900",
   "metadata": {},
   "outputs": [],
   "source": [
    "os.rename('meta1.txt','facebook.txt')"
   ]
  },
  {
   "cell_type": "code",
   "execution_count": 250,
   "id": "321df6ab",
   "metadata": {},
   "outputs": [],
   "source": [
    "import shutil"
   ]
  },
  {
   "cell_type": "code",
   "execution_count": 251,
   "id": "a1639f49",
   "metadata": {},
   "outputs": [
    {
     "data": {
      "text/plain": [
       "'copy_meta2.txt'"
      ]
     },
     "execution_count": 251,
     "metadata": {},
     "output_type": "execute_result"
    }
   ],
   "source": [
    "shutil.copy('meta2.txt','copy_meta2.txt')"
   ]
  },
  {
   "cell_type": "code",
   "execution_count": null,
   "id": "a2db1014",
   "metadata": {},
   "outputs": [],
   "source": []
  }
 ],
 "metadata": {
  "kernelspec": {
   "display_name": "Python 3 (ipykernel)",
   "language": "python",
   "name": "python3"
  },
  "language_info": {
   "codemirror_mode": {
    "name": "ipython",
    "version": 3
   },
   "file_extension": ".py",
   "mimetype": "text/x-python",
   "name": "python",
   "nbconvert_exporter": "python",
   "pygments_lexer": "ipython3",
   "version": "3.9.13"
  }
 },
 "nbformat": 4,
 "nbformat_minor": 5
}
