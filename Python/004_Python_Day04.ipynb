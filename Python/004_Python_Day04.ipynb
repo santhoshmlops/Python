{
 "cells": [
  {
   "cell_type": "markdown",
   "id": "61768d08",
   "metadata": {},
   "source": [
    "# List \n",
    "\n",
    "Lists are used to store multiple items in a single variable.\n",
    "\n",
    "1. List can contains any arbitary objects\n",
    "2. Nested List\n",
    "3. We can have different data types under a list eg we can have integer, float and string items in a same list.\n",
    "4. Lists are mutable i.e object or variable to be changed or modified after its creation.\n",
    "5. We can two lists.\n",
    "6. Lists are ordered."
   ]
  },
  {
   "cell_type": "code",
   "execution_count": 1,
   "id": "7f6b385b",
   "metadata": {},
   "outputs": [
    {
     "name": "stdout",
     "output_type": "stream",
     "text": [
      "['Sunday', 'Monday', 'Tuesday']\n"
     ]
    }
   ],
   "source": [
    "example = ['Sunday', 'Monday','Tuesday']\n",
    "print(example)"
   ]
  },
  {
   "cell_type": "code",
   "execution_count": 2,
   "id": "763dd253",
   "metadata": {},
   "outputs": [
    {
     "name": "stdout",
     "output_type": "stream",
     "text": [
      "[10, 20.7, 'DataScience', 'Machine Learning']\n"
     ]
    }
   ],
   "source": [
    "# int , float , string \n",
    "\n",
    "l = [10, 20.7, 'DataScience', \"Machine Learning\"]\n",
    "print(l)"
   ]
  },
  {
   "cell_type": "code",
   "execution_count": 3,
   "id": "4cbdb514",
   "metadata": {},
   "outputs": [
    {
     "name": "stdout",
     "output_type": "stream",
     "text": [
      "<class 'list'>\n"
     ]
    }
   ],
   "source": [
    "print(type(l))"
   ]
  },
  {
   "cell_type": "code",
   "execution_count": 4,
   "id": "b422a858",
   "metadata": {},
   "outputs": [
    {
     "data": {
      "text/plain": [
       "['python', 3.14, 2002, [1, 1, 2, 3, 4, 5, 6, 7, 1, 9]]"
      ]
     },
     "execution_count": 4,
     "metadata": {},
     "output_type": "execute_result"
    }
   ],
   "source": [
    "l1 = ['python', 3.14, 2002,[1,1,2,3,4,5,6,7,1,9]]\n",
    "l1"
   ]
  },
  {
   "cell_type": "code",
   "execution_count": 5,
   "id": "fc085f03",
   "metadata": {},
   "outputs": [
    {
     "data": {
      "text/plain": [
       "[10, 20, True]"
      ]
     },
     "execution_count": 5,
     "metadata": {},
     "output_type": "execute_result"
    }
   ],
   "source": [
    "l2 = [10, 20, True]\n",
    "l2"
   ]
  },
  {
   "cell_type": "code",
   "execution_count": 6,
   "id": "fb44808c",
   "metadata": {},
   "outputs": [
    {
     "data": {
      "text/plain": [
       "3"
      ]
     },
     "execution_count": 6,
     "metadata": {},
     "output_type": "execute_result"
    }
   ],
   "source": [
    "len(l2)"
   ]
  },
  {
   "cell_type": "code",
   "execution_count": 7,
   "id": "2c74a73e",
   "metadata": {},
   "outputs": [
    {
     "data": {
      "text/plain": [
       "10"
      ]
     },
     "execution_count": 7,
     "metadata": {},
     "output_type": "execute_result"
    }
   ],
   "source": [
    "l2[0]"
   ]
  },
  {
   "cell_type": "code",
   "execution_count": 8,
   "id": "fd32449d",
   "metadata": {},
   "outputs": [
    {
     "ename": "IndexError",
     "evalue": "list index out of range",
     "output_type": "error",
     "traceback": [
      "\u001b[1;31m---------------------------------------------------------------------------\u001b[0m",
      "\u001b[1;31mIndexError\u001b[0m                                Traceback (most recent call last)",
      "\u001b[1;32m~\\AppData\\Local\\Temp\\ipykernel_27368\\2417620317.py\u001b[0m in \u001b[0;36m<module>\u001b[1;34m\u001b[0m\n\u001b[1;32m----> 1\u001b[1;33m \u001b[0ml2\u001b[0m\u001b[1;33m[\u001b[0m\u001b[1;36m3\u001b[0m\u001b[1;33m]\u001b[0m\u001b[1;33m\u001b[0m\u001b[1;33m\u001b[0m\u001b[0m\n\u001b[0m",
      "\u001b[1;31mIndexError\u001b[0m: list index out of range"
     ]
    }
   ],
   "source": [
    "l2[3]"
   ]
  },
  {
   "cell_type": "code",
   "execution_count": 9,
   "id": "967dc9ee",
   "metadata": {},
   "outputs": [
    {
     "data": {
      "text/plain": [
       "True"
      ]
     },
     "execution_count": 9,
     "metadata": {},
     "output_type": "execute_result"
    }
   ],
   "source": [
    "l2[2]"
   ]
  },
  {
   "cell_type": "code",
   "execution_count": 10,
   "id": "54996e54",
   "metadata": {},
   "outputs": [
    {
     "data": {
      "text/plain": [
       "['Sunday', 'Monday']"
      ]
     },
     "execution_count": 10,
     "metadata": {},
     "output_type": "execute_result"
    }
   ],
   "source": [
    "example = ['Sunday', 'Monday','Tuesday', 'Wednesday']\n",
    "#postive slicing\n",
    "example[0:2]"
   ]
  },
  {
   "cell_type": "code",
   "execution_count": 88,
   "id": "018b19c6",
   "metadata": {},
   "outputs": [
    {
     "data": {
      "text/plain": [
       "'Tuesday'"
      ]
     },
     "execution_count": 88,
     "metadata": {},
     "output_type": "execute_result"
    }
   ],
   "source": [
    "example[-2]"
   ]
  },
  {
   "cell_type": "code",
   "execution_count": 11,
   "id": "eba9bdc1",
   "metadata": {},
   "outputs": [
    {
     "data": {
      "text/plain": [
       "['Sunday', 'Monday', 'Tuesday']"
      ]
     },
     "execution_count": 11,
     "metadata": {},
     "output_type": "execute_result"
    }
   ],
   "source": [
    "example[0:3]"
   ]
  },
  {
   "cell_type": "code",
   "execution_count": 13,
   "id": "377c4e35",
   "metadata": {},
   "outputs": [
    {
     "data": {
      "text/plain": [
       "['Sunday', 'Tuesday']"
      ]
     },
     "execution_count": 13,
     "metadata": {},
     "output_type": "execute_result"
    }
   ],
   "source": [
    "example[0:4:2]"
   ]
  },
  {
   "cell_type": "code",
   "execution_count": 14,
   "id": "45a59ef3",
   "metadata": {},
   "outputs": [
    {
     "data": {
      "text/plain": [
       "['Monday', 'Tuesday']"
      ]
     },
     "execution_count": 14,
     "metadata": {},
     "output_type": "execute_result"
    }
   ],
   "source": [
    "#negative slicing \n",
    "example[-3:-1]"
   ]
  },
  {
   "cell_type": "code",
   "execution_count": 15,
   "id": "32f42ae2",
   "metadata": {},
   "outputs": [
    {
     "data": {
      "text/plain": [
       "['Wednesday', 'Tuesday', 'Monday', 'Sunday']"
      ]
     },
     "execution_count": 15,
     "metadata": {},
     "output_type": "execute_result"
    }
   ],
   "source": [
    "example[::-1]"
   ]
  },
  {
   "cell_type": "code",
   "execution_count": 16,
   "id": "a80d7cc9",
   "metadata": {},
   "outputs": [
    {
     "name": "stdout",
     "output_type": "stream",
     "text": [
      "['Sunday', 'Monday', 'Tuesday', 'Wednesday']\n",
      "['Saturday', 'Monday', 'Tuesday', 'Wednesday']\n"
     ]
    }
   ],
   "source": [
    "example = ['Sunday', 'Monday','Tuesday', 'Wednesday']\n",
    "print(example)\n",
    "example[0] = 'Saturday'\n",
    "print(example)"
   ]
  },
  {
   "cell_type": "code",
   "execution_count": 17,
   "id": "0f109d81",
   "metadata": {},
   "outputs": [
    {
     "data": {
      "text/plain": [
       "[10, 20.7, 'DataScience', 'Machine Learning']"
      ]
     },
     "execution_count": 17,
     "metadata": {},
     "output_type": "execute_result"
    }
   ],
   "source": [
    "s ='dsskills' #string\n",
    "l   #list\n"
   ]
  },
  {
   "cell_type": "code",
   "execution_count": 18,
   "id": "13d29214",
   "metadata": {},
   "outputs": [
    {
     "ename": "TypeError",
     "evalue": "can only concatenate str (not \"list\") to str",
     "output_type": "error",
     "traceback": [
      "\u001b[1;31m---------------------------------------------------------------------------\u001b[0m",
      "\u001b[1;31mTypeError\u001b[0m                                 Traceback (most recent call last)",
      "\u001b[1;32m~\\AppData\\Local\\Temp\\ipykernel_27368\\3191971702.py\u001b[0m in \u001b[0;36m<module>\u001b[1;34m\u001b[0m\n\u001b[1;32m----> 1\u001b[1;33m \u001b[0ms\u001b[0m \u001b[1;33m+\u001b[0m \u001b[0ml\u001b[0m\u001b[1;33m\u001b[0m\u001b[1;33m\u001b[0m\u001b[0m\n\u001b[0m",
      "\u001b[1;31mTypeError\u001b[0m: can only concatenate str (not \"list\") to str"
     ]
    }
   ],
   "source": [
    "s + l"
   ]
  },
  {
   "cell_type": "code",
   "execution_count": 19,
   "id": "e0faa751",
   "metadata": {},
   "outputs": [
    {
     "data": {
      "text/plain": [
       "['d',\n",
       " 's',\n",
       " 's',\n",
       " 'k',\n",
       " 'i',\n",
       " 'l',\n",
       " 'l',\n",
       " 's',\n",
       " 10,\n",
       " 20.7,\n",
       " 'DataScience',\n",
       " 'Machine Learning']"
      ]
     },
     "execution_count": 19,
     "metadata": {},
     "output_type": "execute_result"
    }
   ],
   "source": [
    "list(s) + l"
   ]
  },
  {
   "cell_type": "code",
   "execution_count": 20,
   "id": "0cd925e6",
   "metadata": {},
   "outputs": [
    {
     "name": "stdout",
     "output_type": "stream",
     "text": [
      "<class 'list'>\n",
      "<class 'list'>\n"
     ]
    }
   ],
   "source": [
    "a = [\"machine learning\", 'data sciene', 'deep learning']\n",
    "b = [10, 20, 3.14, \"Gen AI\"]\n",
    "print(type(a))\n",
    "print(type(b))"
   ]
  },
  {
   "cell_type": "code",
   "execution_count": 90,
   "id": "c36706d3",
   "metadata": {},
   "outputs": [],
   "source": [
    "l4 = a + b"
   ]
  },
  {
   "cell_type": "code",
   "execution_count": 91,
   "id": "9e6ca545",
   "metadata": {},
   "outputs": [
    {
     "name": "stdout",
     "output_type": "stream",
     "text": [
      "['machine learning', 'data sciene', 'deep learning', 10, 20, 3.14, 'Gen AI']\n"
     ]
    }
   ],
   "source": [
    "print(l4)"
   ]
  },
  {
   "cell_type": "code",
   "execution_count": 92,
   "id": "f24acefe",
   "metadata": {},
   "outputs": [
    {
     "data": {
      "text/plain": [
       "str"
      ]
     },
     "execution_count": 92,
     "metadata": {},
     "output_type": "execute_result"
    }
   ],
   "source": [
    "type(l[2])"
   ]
  },
  {
   "cell_type": "code",
   "execution_count": 93,
   "id": "667cc2c3",
   "metadata": {},
   "outputs": [
    {
     "data": {
      "text/plain": [
       "str"
      ]
     },
     "execution_count": 93,
     "metadata": {},
     "output_type": "execute_result"
    }
   ],
   "source": [
    "type(l[2])"
   ]
  },
  {
   "cell_type": "code",
   "execution_count": 94,
   "id": "7b567bdd",
   "metadata": {},
   "outputs": [
    {
     "data": {
      "text/plain": [
       "3.14"
      ]
     },
     "execution_count": 94,
     "metadata": {},
     "output_type": "execute_result"
    }
   ],
   "source": [
    "l4[-2]"
   ]
  },
  {
   "cell_type": "code",
   "execution_count": 25,
   "id": "0978bb88",
   "metadata": {},
   "outputs": [
    {
     "data": {
      "text/plain": [
       "['machine learning',\n",
       " 'data sciene',\n",
       " 'deep learning',\n",
       " 10,\n",
       " 20,\n",
       " 3.14,\n",
       " 'Gen AI',\n",
       " 'machine learning',\n",
       " 'data sciene',\n",
       " 'deep learning',\n",
       " 10,\n",
       " 20,\n",
       " 3.14,\n",
       " 'Gen AI',\n",
       " 'machine learning',\n",
       " 'data sciene',\n",
       " 'deep learning',\n",
       " 10,\n",
       " 20,\n",
       " 3.14,\n",
       " 'Gen AI']"
      ]
     },
     "execution_count": 25,
     "metadata": {},
     "output_type": "execute_result"
    }
   ],
   "source": [
    "l4*3"
   ]
  },
  {
   "cell_type": "code",
   "execution_count": 26,
   "id": "f5bfa4af",
   "metadata": {},
   "outputs": [
    {
     "data": {
      "text/plain": [
       "[1, 345, 45, 'ai', True, (3+6j), 34.98]"
      ]
     },
     "execution_count": 26,
     "metadata": {},
     "output_type": "execute_result"
    }
   ],
   "source": [
    "l = [1 , 345, 45 , 'ai', True , (3+6j), 34.98]\n",
    "l"
   ]
  },
  {
   "cell_type": "code",
   "execution_count": 27,
   "id": "5e3d723f",
   "metadata": {},
   "outputs": [],
   "source": [
    "l.append(5) # Append object to the end of the list."
   ]
  },
  {
   "cell_type": "code",
   "execution_count": 28,
   "id": "d5f58627",
   "metadata": {},
   "outputs": [
    {
     "data": {
      "text/plain": [
       "[1, 345, 45, 'ai', True, (3+6j), 34.98, 5]"
      ]
     },
     "execution_count": 28,
     "metadata": {},
     "output_type": "execute_result"
    }
   ],
   "source": [
    "l"
   ]
  },
  {
   "cell_type": "code",
   "execution_count": 29,
   "id": "574ac65e",
   "metadata": {},
   "outputs": [],
   "source": [
    "l.append(example)"
   ]
  },
  {
   "cell_type": "code",
   "execution_count": 30,
   "id": "eea3063e",
   "metadata": {},
   "outputs": [
    {
     "data": {
      "text/plain": [
       "[1,\n",
       " 345,\n",
       " 45,\n",
       " 'ai',\n",
       " True,\n",
       " (3+6j),\n",
       " 34.98,\n",
       " 5,\n",
       " ['Saturday', 'Monday', 'Tuesday', 'Wednesday']]"
      ]
     },
     "execution_count": 30,
     "metadata": {},
     "output_type": "execute_result"
    }
   ],
   "source": [
    "l"
   ]
  },
  {
   "cell_type": "code",
   "execution_count": 31,
   "id": "eb2aa16c",
   "metadata": {},
   "outputs": [
    {
     "ename": "TypeError",
     "evalue": "'int' object is not iterable",
     "output_type": "error",
     "traceback": [
      "\u001b[1;31m---------------------------------------------------------------------------\u001b[0m",
      "\u001b[1;31mTypeError\u001b[0m                                 Traceback (most recent call last)",
      "\u001b[1;32m~\\AppData\\Local\\Temp\\ipykernel_27368\\3706828669.py\u001b[0m in \u001b[0;36m<module>\u001b[1;34m\u001b[0m\n\u001b[1;32m----> 1\u001b[1;33m \u001b[0ml\u001b[0m\u001b[1;33m.\u001b[0m\u001b[0mextend\u001b[0m\u001b[1;33m(\u001b[0m\u001b[1;36m4\u001b[0m\u001b[1;33m)\u001b[0m   \u001b[1;31m#Extend list by appending elements from the iterable.\u001b[0m\u001b[1;33m\u001b[0m\u001b[1;33m\u001b[0m\u001b[0m\n\u001b[0m",
      "\u001b[1;31mTypeError\u001b[0m: 'int' object is not iterable"
     ]
    }
   ],
   "source": [
    "l.extend(4)   #Extend list by appending elements from the iterable."
   ]
  },
  {
   "cell_type": "code",
   "execution_count": 32,
   "id": "4bd01b94",
   "metadata": {},
   "outputs": [],
   "source": [
    "l.extend('rahul')"
   ]
  },
  {
   "cell_type": "code",
   "execution_count": 33,
   "id": "dd6588e7",
   "metadata": {},
   "outputs": [
    {
     "data": {
      "text/plain": [
       "[1,\n",
       " 345,\n",
       " 45,\n",
       " 'ai',\n",
       " True,\n",
       " (3+6j),\n",
       " 34.98,\n",
       " 5,\n",
       " ['Saturday', 'Monday', 'Tuesday', 'Wednesday'],\n",
       " 'r',\n",
       " 'a',\n",
       " 'h',\n",
       " 'u',\n",
       " 'l']"
      ]
     },
     "execution_count": 33,
     "metadata": {},
     "output_type": "execute_result"
    }
   ],
   "source": [
    "l"
   ]
  },
  {
   "cell_type": "code",
   "execution_count": 36,
   "id": "6088d7fa",
   "metadata": {},
   "outputs": [
    {
     "data": {
      "text/plain": [
       "[1,\n",
       " 345,\n",
       " 45,\n",
       " 'ai',\n",
       " True,\n",
       " (3+6j),\n",
       " 34.98,\n",
       " 5,\n",
       " ['Saturday', 'Monday', 'Tuesday', 'Wednesday'],\n",
       " 'r',\n",
       " 'a',\n",
       " 'h',\n",
       " 'u',\n",
       " 'l',\n",
       " 20.5,\n",
       " 60,\n",
       " 20,\n",
       " 50,\n",
       " 60,\n",
       " 20.5,\n",
       " 60]"
      ]
     },
     "execution_count": 36,
     "metadata": {},
     "output_type": "execute_result"
    }
   ],
   "source": [
    "l.extend([20.50,60])\n",
    "l"
   ]
  },
  {
   "cell_type": "code",
   "execution_count": 44,
   "id": "7f98e3d8",
   "metadata": {},
   "outputs": [
    {
     "data": {
      "text/plain": [
       "['datascience', 'aws', 'azure', 1, True]"
      ]
     },
     "execution_count": 44,
     "metadata": {},
     "output_type": "execute_result"
    }
   ],
   "source": [
    "l = ['datascience', 'aws','azure',1, True]\n",
    "l"
   ]
  },
  {
   "cell_type": "code",
   "execution_count": 38,
   "id": "f667d17e",
   "metadata": {},
   "outputs": [
    {
     "ename": "TypeError",
     "evalue": "'int' object is not iterable",
     "output_type": "error",
     "traceback": [
      "\u001b[1;31m---------------------------------------------------------------------------\u001b[0m",
      "\u001b[1;31mTypeError\u001b[0m                                 Traceback (most recent call last)",
      "\u001b[1;32m~\\AppData\\Local\\Temp\\ipykernel_27368\\2311825727.py\u001b[0m in \u001b[0;36m<module>\u001b[1;34m\u001b[0m\n\u001b[1;32m----> 1\u001b[1;33m \u001b[0ml\u001b[0m\u001b[1;33m.\u001b[0m\u001b[0mextend\u001b[0m\u001b[1;33m(\u001b[0m\u001b[1;36m4\u001b[0m\u001b[1;33m)\u001b[0m\u001b[1;33m\u001b[0m\u001b[1;33m\u001b[0m\u001b[0m\n\u001b[0m",
      "\u001b[1;31mTypeError\u001b[0m: 'int' object is not iterable"
     ]
    }
   ],
   "source": [
    "l.extend(4)"
   ]
  },
  {
   "cell_type": "code",
   "execution_count": 39,
   "id": "c8042146",
   "metadata": {},
   "outputs": [
    {
     "data": {
      "text/plain": [
       "['datascience', 'aws', 'azure', 1, True, 10, 20, 4]"
      ]
     },
     "execution_count": 39,
     "metadata": {},
     "output_type": "execute_result"
    }
   ],
   "source": [
    "l.extend([10,20,4])\n",
    "l"
   ]
  },
  {
   "cell_type": "code",
   "execution_count": 40,
   "id": "bcd80e98",
   "metadata": {},
   "outputs": [
    {
     "ename": "TypeError",
     "evalue": "'bool' object is not iterable",
     "output_type": "error",
     "traceback": [
      "\u001b[1;31m---------------------------------------------------------------------------\u001b[0m",
      "\u001b[1;31mTypeError\u001b[0m                                 Traceback (most recent call last)",
      "\u001b[1;32m~\\AppData\\Local\\Temp\\ipykernel_27368\\147180323.py\u001b[0m in \u001b[0;36m<module>\u001b[1;34m\u001b[0m\n\u001b[1;32m----> 1\u001b[1;33m \u001b[0ml\u001b[0m\u001b[1;33m.\u001b[0m\u001b[0mextend\u001b[0m\u001b[1;33m(\u001b[0m\u001b[1;32mFalse\u001b[0m\u001b[1;33m)\u001b[0m\u001b[1;33m\u001b[0m\u001b[1;33m\u001b[0m\u001b[0m\n\u001b[0m\u001b[0;32m      2\u001b[0m \u001b[0ml\u001b[0m\u001b[1;33m\u001b[0m\u001b[1;33m\u001b[0m\u001b[0m\n",
      "\u001b[1;31mTypeError\u001b[0m: 'bool' object is not iterable"
     ]
    }
   ],
   "source": [
    "l.extend(False)\n",
    "l"
   ]
  },
  {
   "cell_type": "code",
   "execution_count": 41,
   "id": "047a2153",
   "metadata": {},
   "outputs": [
    {
     "data": {
      "text/plain": [
       "['datascience', 'aws', 'azure', 1, True, 10, 20, 4, 'M', 'L']"
      ]
     },
     "execution_count": 41,
     "metadata": {},
     "output_type": "execute_result"
    }
   ],
   "source": [
    "l.extend('ML')\n",
    "l"
   ]
  },
  {
   "cell_type": "code",
   "execution_count": 43,
   "id": "4527022d",
   "metadata": {},
   "outputs": [
    {
     "data": {
      "text/plain": [
       "['datascience', 'cloud', 'aws', 'azure', 1, True, 10, 20, 4, 'M', 'L']"
      ]
     },
     "execution_count": 43,
     "metadata": {},
     "output_type": "execute_result"
    }
   ],
   "source": [
    "l"
   ]
  },
  {
   "cell_type": "code",
   "execution_count": 42,
   "id": "bb98ad19",
   "metadata": {},
   "outputs": [
    {
     "data": {
      "text/plain": [
       "['datascience', 'cloud', 'aws', 'azure', 1, True, 10, 20, 4, 'M', 'L']"
      ]
     },
     "execution_count": 42,
     "metadata": {},
     "output_type": "execute_result"
    }
   ],
   "source": [
    "l.insert(1,'cloud')\n",
    "l"
   ]
  },
  {
   "cell_type": "code",
   "execution_count": 45,
   "id": "26f156e0",
   "metadata": {},
   "outputs": [
    {
     "data": {
      "text/plain": [
       "['datascience', 'aws', [2, 3, 4], 'azure', 1, True]"
      ]
     },
     "execution_count": 45,
     "metadata": {},
     "output_type": "execute_result"
    }
   ],
   "source": [
    "l.insert(2,[2,3,4])\n",
    "l"
   ]
  },
  {
   "cell_type": "code",
   "execution_count": 46,
   "id": "a414e1e0",
   "metadata": {},
   "outputs": [
    {
     "data": {
      "text/plain": [
       "['datascience', 'aws', [2, 3, 4], 'azure', 1, 45, True]"
      ]
     },
     "execution_count": 46,
     "metadata": {},
     "output_type": "execute_result"
    }
   ],
   "source": [
    "l.insert(-1,45)\n",
    "l"
   ]
  },
  {
   "cell_type": "code",
   "execution_count": 47,
   "id": "c07cfe84",
   "metadata": {},
   "outputs": [
    {
     "data": {
      "text/plain": [
       "[45, 'datascience', 'aws', [2, 3, 4], 'azure', 1, 45, True]"
      ]
     },
     "execution_count": 47,
     "metadata": {},
     "output_type": "execute_result"
    }
   ],
   "source": [
    "l.insert(0,45)\n",
    "l"
   ]
  },
  {
   "cell_type": "code",
   "execution_count": 50,
   "id": "0e5af728",
   "metadata": {},
   "outputs": [
    {
     "data": {
      "text/plain": [
       "1"
      ]
     },
     "execution_count": 50,
     "metadata": {},
     "output_type": "execute_result"
    }
   ],
   "source": [
    "l.index('datascience')  #Return first index of value."
   ]
  },
  {
   "cell_type": "code",
   "execution_count": 51,
   "id": "a9cd3de5",
   "metadata": {},
   "outputs": [
    {
     "data": {
      "text/plain": [
       "4"
      ]
     },
     "execution_count": 51,
     "metadata": {},
     "output_type": "execute_result"
    }
   ],
   "source": [
    "l.index('azure')"
   ]
  },
  {
   "cell_type": "code",
   "execution_count": 52,
   "id": "f852c6d7",
   "metadata": {},
   "outputs": [
    {
     "data": {
      "text/plain": [
       "[2, 3, 4]"
      ]
     },
     "execution_count": 52,
     "metadata": {},
     "output_type": "execute_result"
    }
   ],
   "source": [
    "l.pop(3)  #Remove and return item at index (default last)."
   ]
  },
  {
   "cell_type": "code",
   "execution_count": 53,
   "id": "3d06037a",
   "metadata": {},
   "outputs": [
    {
     "data": {
      "text/plain": [
       "[45, 'datascience', 'aws', 'azure', 1, 45, True]"
      ]
     },
     "execution_count": 53,
     "metadata": {},
     "output_type": "execute_result"
    }
   ],
   "source": [
    "l"
   ]
  },
  {
   "cell_type": "code",
   "execution_count": 54,
   "id": "fd26738a",
   "metadata": {},
   "outputs": [
    {
     "data": {
      "text/plain": [
       "True"
      ]
     },
     "execution_count": 54,
     "metadata": {},
     "output_type": "execute_result"
    }
   ],
   "source": [
    "l.pop(-1)"
   ]
  },
  {
   "cell_type": "code",
   "execution_count": 55,
   "id": "d8a145e9",
   "metadata": {},
   "outputs": [
    {
     "data": {
      "text/plain": [
       "[45, 'datascience', 'aws', 'azure', 1, 45]"
      ]
     },
     "execution_count": 55,
     "metadata": {},
     "output_type": "execute_result"
    }
   ],
   "source": [
    "l"
   ]
  },
  {
   "cell_type": "code",
   "execution_count": 56,
   "id": "0297283d",
   "metadata": {},
   "outputs": [
    {
     "data": {
      "text/plain": [
       "45"
      ]
     },
     "execution_count": 56,
     "metadata": {},
     "output_type": "execute_result"
    }
   ],
   "source": [
    "l.pop()"
   ]
  },
  {
   "cell_type": "code",
   "execution_count": 57,
   "id": "d78f5c45",
   "metadata": {},
   "outputs": [
    {
     "data": {
      "text/plain": [
       "[45, 'datascience', 'aws', 'azure', 1]"
      ]
     },
     "execution_count": 57,
     "metadata": {},
     "output_type": "execute_result"
    }
   ],
   "source": [
    "l"
   ]
  },
  {
   "cell_type": "code",
   "execution_count": 59,
   "id": "a67fd252",
   "metadata": {},
   "outputs": [],
   "source": [
    "l.remove(1)   #Remove first occurrence of value."
   ]
  },
  {
   "cell_type": "code",
   "execution_count": 60,
   "id": "6918d5d7",
   "metadata": {},
   "outputs": [
    {
     "data": {
      "text/plain": [
       "[45, 'datascience', 'aws', 'azure']"
      ]
     },
     "execution_count": 60,
     "metadata": {},
     "output_type": "execute_result"
    }
   ],
   "source": [
    "l"
   ]
  },
  {
   "cell_type": "code",
   "execution_count": 61,
   "id": "ab8abea2",
   "metadata": {},
   "outputs": [
    {
     "ename": "ValueError",
     "evalue": "list.remove(x): x not in list",
     "output_type": "error",
     "traceback": [
      "\u001b[1;31m---------------------------------------------------------------------------\u001b[0m",
      "\u001b[1;31mValueError\u001b[0m                                Traceback (most recent call last)",
      "\u001b[1;32m~\\AppData\\Local\\Temp\\ipykernel_27368\\3326812521.py\u001b[0m in \u001b[0;36m<module>\u001b[1;34m\u001b[0m\n\u001b[1;32m----> 1\u001b[1;33m \u001b[0ml\u001b[0m\u001b[1;33m.\u001b[0m\u001b[0mremove\u001b[0m\u001b[1;33m(\u001b[0m\u001b[1;36m234\u001b[0m\u001b[1;33m)\u001b[0m\u001b[1;33m\u001b[0m\u001b[1;33m\u001b[0m\u001b[0m\n\u001b[0m\u001b[0;32m      2\u001b[0m \u001b[0ml\u001b[0m\u001b[1;33m\u001b[0m\u001b[1;33m\u001b[0m\u001b[0m\n",
      "\u001b[1;31mValueError\u001b[0m: list.remove(x): x not in list"
     ]
    }
   ],
   "source": [
    "l.remove(234)\n",
    "l"
   ]
  },
  {
   "cell_type": "code",
   "execution_count": 62,
   "id": "b3623cec",
   "metadata": {},
   "outputs": [],
   "source": [
    "l.reverse()"
   ]
  },
  {
   "cell_type": "code",
   "execution_count": 63,
   "id": "f728b2b8",
   "metadata": {},
   "outputs": [
    {
     "data": {
      "text/plain": [
       "['azure', 'aws', 'datascience', 45]"
      ]
     },
     "execution_count": 63,
     "metadata": {},
     "output_type": "execute_result"
    }
   ],
   "source": [
    "l"
   ]
  },
  {
   "cell_type": "code",
   "execution_count": 74,
   "id": "e8fe195a",
   "metadata": {},
   "outputs": [
    {
     "data": {
      "text/plain": [
       "[90, 45, 23, 9, 8, 7, 5, 4, 3, 0]"
      ]
     },
     "execution_count": 74,
     "metadata": {},
     "output_type": "execute_result"
    }
   ],
   "source": [
    "l2 = [45,23,90,0,3,4,5,7,8,9]\n",
    "l2.sort(reverse=True)\n",
    "l2"
   ]
  },
  {
   "cell_type": "code",
   "execution_count": 67,
   "id": "69bc01c8",
   "metadata": {},
   "outputs": [],
   "source": [
    "l2.sort()   #Sort the list in ascending order and return None"
   ]
  },
  {
   "cell_type": "code",
   "execution_count": 68,
   "id": "bee1828e",
   "metadata": {},
   "outputs": [
    {
     "data": {
      "text/plain": [
       "[0, 3, 4, 5, 7, 8, 9, 23, 45, 90]"
      ]
     },
     "execution_count": 68,
     "metadata": {},
     "output_type": "execute_result"
    }
   ],
   "source": [
    "l2"
   ]
  },
  {
   "cell_type": "code",
   "execution_count": 73,
   "id": "b91a3fec",
   "metadata": {},
   "outputs": [
    {
     "data": {
      "text/plain": [
       "[0, 3, 4, 5, 7, 8, 9, 23, 45, 90]"
      ]
     },
     "execution_count": 73,
     "metadata": {},
     "output_type": "execute_result"
    }
   ],
   "source": [
    "l2"
   ]
  },
  {
   "cell_type": "code",
   "execution_count": null,
   "id": "bbb32ba7",
   "metadata": {},
   "outputs": [],
   "source": []
  },
  {
   "cell_type": "code",
   "execution_count": 69,
   "id": "45fff5e2",
   "metadata": {},
   "outputs": [
    {
     "ename": "TypeError",
     "evalue": "'<' not supported between instances of 'str' and 'int'",
     "output_type": "error",
     "traceback": [
      "\u001b[1;31m---------------------------------------------------------------------------\u001b[0m",
      "\u001b[1;31mTypeError\u001b[0m                                 Traceback (most recent call last)",
      "\u001b[1;32m~\\AppData\\Local\\Temp\\ipykernel_27368\\1213789065.py\u001b[0m in \u001b[0;36m<module>\u001b[1;34m\u001b[0m\n\u001b[0;32m      1\u001b[0m \u001b[0ml3\u001b[0m \u001b[1;33m=\u001b[0m \u001b[1;33m[\u001b[0m\u001b[1;36m34\u001b[0m\u001b[1;33m,\u001b[0m \u001b[1;34m'machinelearning'\u001b[0m\u001b[1;33m,\u001b[0m\u001b[1;36m45\u001b[0m\u001b[1;33m,\u001b[0m\u001b[1;36m11\u001b[0m\u001b[1;33m,\u001b[0m\u001b[1;34m'NLP'\u001b[0m\u001b[1;33m]\u001b[0m\u001b[1;33m\u001b[0m\u001b[1;33m\u001b[0m\u001b[0m\n\u001b[1;32m----> 2\u001b[1;33m \u001b[0ml3\u001b[0m\u001b[1;33m.\u001b[0m\u001b[0msort\u001b[0m\u001b[1;33m(\u001b[0m\u001b[1;33m)\u001b[0m\u001b[1;33m\u001b[0m\u001b[1;33m\u001b[0m\u001b[0m\n\u001b[0m",
      "\u001b[1;31mTypeError\u001b[0m: '<' not supported between instances of 'str' and 'int'"
     ]
    }
   ],
   "source": [
    "l3 = [34, 'machinelearning',45,11,'NLP']\n",
    "l3.sort()"
   ]
  },
  {
   "cell_type": "code",
   "execution_count": 70,
   "id": "22a2626f",
   "metadata": {},
   "outputs": [],
   "source": [
    "l4 = ['cloud','web','deeplearning','devops','google']\n"
   ]
  },
  {
   "cell_type": "code",
   "execution_count": 71,
   "id": "fe04e4e0",
   "metadata": {},
   "outputs": [],
   "source": [
    "l4.sort()"
   ]
  },
  {
   "cell_type": "code",
   "execution_count": 72,
   "id": "49b716ec",
   "metadata": {},
   "outputs": [
    {
     "data": {
      "text/plain": [
       "['cloud', 'deeplearning', 'devops', 'google', 'web']"
      ]
     },
     "execution_count": 72,
     "metadata": {},
     "output_type": "execute_result"
    }
   ],
   "source": [
    "l4"
   ]
  },
  {
   "cell_type": "code",
   "execution_count": 75,
   "id": "e6fd332f",
   "metadata": {},
   "outputs": [
    {
     "data": {
      "text/plain": [
       "1"
      ]
     },
     "execution_count": 75,
     "metadata": {},
     "output_type": "execute_result"
    }
   ],
   "source": [
    "l4.count('web')"
   ]
  },
  {
   "cell_type": "code",
   "execution_count": 76,
   "id": "f0dec9b0",
   "metadata": {},
   "outputs": [],
   "source": [
    "l5 = [3,4,5,6]"
   ]
  },
  {
   "cell_type": "code",
   "execution_count": 77,
   "id": "c4c1b405",
   "metadata": {},
   "outputs": [],
   "source": [
    "s ='nlp'"
   ]
  },
  {
   "cell_type": "code",
   "execution_count": 79,
   "id": "c1452822",
   "metadata": {},
   "outputs": [
    {
     "ename": "TypeError",
     "evalue": "'str' object does not support item assignment",
     "output_type": "error",
     "traceback": [
      "\u001b[1;31m---------------------------------------------------------------------------\u001b[0m",
      "\u001b[1;31mTypeError\u001b[0m                                 Traceback (most recent call last)",
      "\u001b[1;32m~\\AppData\\Local\\Temp\\ipykernel_27368\\2064754096.py\u001b[0m in \u001b[0;36m<module>\u001b[1;34m\u001b[0m\n\u001b[1;32m----> 1\u001b[1;33m \u001b[0ms\u001b[0m\u001b[1;33m[\u001b[0m\u001b[1;36m0\u001b[0m\u001b[1;33m]\u001b[0m \u001b[1;33m=\u001b[0m\u001b[1;34m'a'\u001b[0m\u001b[1;33m\u001b[0m\u001b[1;33m\u001b[0m\u001b[0m\n\u001b[0m",
      "\u001b[1;31mTypeError\u001b[0m: 'str' object does not support item assignment"
     ]
    }
   ],
   "source": [
    "s[0] ='a'"
   ]
  },
  {
   "cell_type": "code",
   "execution_count": 80,
   "id": "b75e90d5",
   "metadata": {},
   "outputs": [],
   "source": [
    "l5[0]=30"
   ]
  },
  {
   "cell_type": "code",
   "execution_count": 81,
   "id": "e2991bfc",
   "metadata": {},
   "outputs": [
    {
     "data": {
      "text/plain": [
       "[30, 4, 5, 6]"
      ]
     },
     "execution_count": 81,
     "metadata": {},
     "output_type": "execute_result"
    }
   ],
   "source": [
    "l5"
   ]
  },
  {
   "cell_type": "code",
   "execution_count": 82,
   "id": "8694472e",
   "metadata": {},
   "outputs": [
    {
     "data": {
      "text/plain": [
       "'mlp'"
      ]
     },
     "execution_count": 82,
     "metadata": {},
     "output_type": "execute_result"
    }
   ],
   "source": [
    "s.replace('n','m')"
   ]
  },
  {
   "cell_type": "code",
   "execution_count": null,
   "id": "e17effe0",
   "metadata": {},
   "outputs": [],
   "source": []
  }
 ],
 "metadata": {
  "kernelspec": {
   "display_name": "Python 3 (ipykernel)",
   "language": "python",
   "name": "python3"
  },
  "language_info": {
   "codemirror_mode": {
    "name": "ipython",
    "version": 3
   },
   "file_extension": ".py",
   "mimetype": "text/x-python",
   "name": "python",
   "nbconvert_exporter": "python",
   "pygments_lexer": "ipython3",
   "version": "3.9.13"
  }
 },
 "nbformat": 4,
 "nbformat_minor": 5
}
