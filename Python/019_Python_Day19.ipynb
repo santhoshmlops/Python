{
 "cells": [
  {
   "cell_type": "markdown",
   "id": "33cb1b1b",
   "metadata": {},
   "source": [
    "# Another method to open a file"
   ]
  },
  {
   "cell_type": "code",
   "execution_count": 56,
   "id": "324a3928",
   "metadata": {},
   "outputs": [],
   "source": [
    "with open('new_text1.txt','w') as f:\n",
    "    f.write(\"This is a new notepad text file\")"
   ]
  },
  {
   "cell_type": "code",
   "execution_count": 57,
   "id": "93f985b3",
   "metadata": {},
   "outputs": [],
   "source": [
    "f.close()"
   ]
  },
  {
   "cell_type": "code",
   "execution_count": 59,
   "id": "f9be55d8",
   "metadata": {},
   "outputs": [
    {
     "name": "stdout",
     "output_type": "stream",
     "text": [
      "This is a new notepad text file\n"
     ]
    }
   ],
   "source": [
    "with open('new_text1.txt','r') as f:\n",
    "    print(f.read())"
   ]
  },
  {
   "cell_type": "code",
   "execution_count": 60,
   "id": "cee59b78",
   "metadata": {},
   "outputs": [],
   "source": [
    "data2 ={\n",
    "    'name':'divya',\n",
    "    'email_id':'divya@gmail.com',\n",
    "    'phone_number':2556888474,\n",
    "    'course':['data science master', 'deeplearning','machinelearning']\n",
    "    \n",
    "}\n",
    "    \n"
   ]
  },
  {
   "cell_type": "code",
   "execution_count": 61,
   "id": "1b7e3ae2",
   "metadata": {},
   "outputs": [],
   "source": [
    "#json -- java script object notation"
   ]
  },
  {
   "cell_type": "code",
   "execution_count": 62,
   "id": "51eb1128",
   "metadata": {},
   "outputs": [],
   "source": [
    "import json"
   ]
  },
  {
   "cell_type": "code",
   "execution_count": 64,
   "id": "b96491f1",
   "metadata": {},
   "outputs": [],
   "source": [
    "with open('data2.json','w') as f:\n",
    "    json.dump(data2,f)"
   ]
  },
  {
   "cell_type": "code",
   "execution_count": 65,
   "id": "8e33957e",
   "metadata": {},
   "outputs": [],
   "source": [
    "with open('data2.json','r') as f:\n",
    "    data_read= json.load(f)"
   ]
  },
  {
   "cell_type": "code",
   "execution_count": 66,
   "id": "d8a3a6b7",
   "metadata": {},
   "outputs": [
    {
     "data": {
      "text/plain": [
       "{'name': 'divya',\n",
       " 'email_id': 'divya@gmail.com',\n",
       " 'phone_number': 2556888474,\n",
       " 'course': ['data science master', 'deeplearning', 'machinelearning']}"
      ]
     },
     "execution_count": 66,
     "metadata": {},
     "output_type": "execute_result"
    }
   ],
   "source": [
    "data_read"
   ]
  },
  {
   "cell_type": "code",
   "execution_count": 70,
   "id": "3bc6106e",
   "metadata": {},
   "outputs": [
    {
     "data": {
      "text/plain": [
       "'data science master'"
      ]
     },
     "execution_count": 70,
     "metadata": {},
     "output_type": "execute_result"
    }
   ],
   "source": [
    "data_read['course'][0]"
   ]
  },
  {
   "cell_type": "code",
   "execution_count": 71,
   "id": "890fcf3c",
   "metadata": {},
   "outputs": [],
   "source": [
    "import csv\n",
    "\n",
    "#csv -- comma separated values\n",
    "#id ,roll_num, name"
   ]
  },
  {
   "cell_type": "code",
   "execution_count": 72,
   "id": "5ceb8e9a",
   "metadata": {},
   "outputs": [],
   "source": [
    "data = [['name','email_id','phone_number'],\n",
    "        ['shiavm','shivam@google.com',45652225565],\n",
    "        ['komal','komal@outlook.com',45665889554]\n",
    "    \n",
    "]"
   ]
  },
  {
   "cell_type": "code",
   "execution_count": 74,
   "id": "9917981d",
   "metadata": {},
   "outputs": [],
   "source": [
    "with open('data1.csv','w') as f:\n",
    "    writer = csv.writer(f)\n",
    "    \n",
    "    for i in data:\n",
    "        writer.writerow(i)\n",
    "        \n",
    "    \n",
    "    \n",
    "    "
   ]
  },
  {
   "cell_type": "code",
   "execution_count": 76,
   "id": "4d3a6afd",
   "metadata": {},
   "outputs": [
    {
     "name": "stdout",
     "output_type": "stream",
     "text": [
      "['name', 'email_id', 'phone_number']\n",
      "[]\n",
      "['shiavm', 'shivam@google.com', '45652225565']\n",
      "[]\n",
      "['komal', 'komal@outlook.com', '45665889554']\n",
      "[]\n"
     ]
    }
   ],
   "source": [
    "with open('data1.csv','r') as f:\n",
    "    read_data = csv.reader(f)\n",
    "    for i in read_data:\n",
    "        print(i)\n",
    "    "
   ]
  },
  {
   "cell_type": "code",
   "execution_count": 84,
   "id": "f6a1b142",
   "metadata": {},
   "outputs": [],
   "source": [
    "with open('bigdata.bin','wb') as f:\n",
    "    f.write(b\"\\x01\\x02\\x03\\x347757575\")\n",
    "    "
   ]
  },
  {
   "cell_type": "code",
   "execution_count": 85,
   "id": "b0cc3a47",
   "metadata": {},
   "outputs": [
    {
     "name": "stdout",
     "output_type": "stream",
     "text": [
      "b'\\x01\\x02\\x0347757575'\n"
     ]
    }
   ],
   "source": [
    "with open('bigdata.bin','rb') as f:\n",
    "    print(f.read())"
   ]
  },
  {
   "cell_type": "code",
   "execution_count": 86,
   "id": "996839fd",
   "metadata": {},
   "outputs": [],
   "source": [
    "import io"
   ]
  },
  {
   "cell_type": "code",
   "execution_count": 88,
   "id": "f436ae09",
   "metadata": {},
   "outputs": [],
   "source": [
    "with open('test7.txt','wb') as f:\n",
    "    file = io.BufferedWriter(f)\n",
    "    file.write(b\"DataSciLearn is a channel dedicated to providing high-quality learning content for data science enthusiasts and practitioners. The channel covers various topics related to data science, including data analysis, data visualization, machine learning, deep learning, natural language processing, and more.Stay Motivated and Keep Learning. This repository contains day-wise notes and code snippets for our comprehensive crash course on Data Science. This comprehensive crash course is designed to provide you with a solid foundation in data science using Python. Each day covers key topics, hands-on exercises, and practical examples to help you master essential concepts in a step-by-step manner, laying the foundation for a successful journey into the world of data science and Gen AI.\")\n",
    "    file.write(b\"This is my Youtube Channel datascilearn\")\n",
    "    file.flush()   #flushes the internal buffer\n",
    "    \n"
   ]
  },
  {
   "cell_type": "code",
   "execution_count": 91,
   "id": "23a0d376",
   "metadata": {},
   "outputs": [
    {
     "name": "stdout",
     "output_type": "stream",
     "text": [
      "b'DataSciLearn is a channel dedicated to providing high-quality learning content for data science enthusiasts and practitioners. The channel covers various topics related to data science, including data analysis, data visualization, machine learning, deep learning, natural language processing, and more.Stay Motivated and Keep Learning. This repository contains day-wise notes and code snippets for our comprehensive crash course on Data Science. This comprehensive crash course is designed to provide'\n"
     ]
    }
   ],
   "source": [
    "with open('test7.txt','rb') as f:\n",
    "    file = io.BufferedReader(f)\n",
    "    data = file.read(500)\n",
    "    print(data)"
   ]
  },
  {
   "cell_type": "code",
   "execution_count": null,
   "id": "88ea710d",
   "metadata": {},
   "outputs": [],
   "source": []
  }
 ],
 "metadata": {
  "kernelspec": {
   "display_name": "Python 3 (ipykernel)",
   "language": "python",
   "name": "python3"
  },
  "language_info": {
   "codemirror_mode": {
    "name": "ipython",
    "version": 3
   },
   "file_extension": ".py",
   "mimetype": "text/x-python",
   "name": "python",
   "nbconvert_exporter": "python",
   "pygments_lexer": "ipython3",
   "version": "3.9.13"
  }
 },
 "nbformat": 4,
 "nbformat_minor": 5
}
