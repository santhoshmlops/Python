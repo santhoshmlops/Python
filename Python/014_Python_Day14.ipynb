{
 "cells": [
  {
   "cell_type": "markdown",
   "id": "2d0b31c9",
   "metadata": {},
   "source": [
    "# OOPS stands for Object-Oriented Programming System\n",
    "\n",
    "\n",
    "\n",
    "\n",
    "\n",
    "### Classes and Objects\n",
    "\n",
    "1. Class is a Blueprint for that objects or for creating objects.\n",
    "2. An Object is simply a collection of data(variables) and methods(function) that acts on those data.\n",
    "3. Objects get their variables and function from class.\n",
    "4. Objects are nothing but an ecapsulation of variable and function into a single entity.\n",
    "5. Self Parameter is a reference to the current instance of the class and is used to access variable that belongs to the class.\n",
    "6. All classes have a function called __init__() which is always executed when the class is being initiated(constructor).\n",
    "7. We can use __init__ () function to assign values to object properties or other operations that are necessary to perform when the object is being created."
   ]
  },
  {
   "cell_type": "code",
   "execution_count": 1,
   "id": "50a3b235",
   "metadata": {},
   "outputs": [],
   "source": [
    "a = 5 "
   ]
  },
  {
   "cell_type": "code",
   "execution_count": 2,
   "id": "de55e4d5",
   "metadata": {},
   "outputs": [
    {
     "name": "stdout",
     "output_type": "stream",
     "text": [
      "<class 'int'>\n"
     ]
    }
   ],
   "source": [
    "print(type(a))"
   ]
  },
  {
   "cell_type": "code",
   "execution_count": 3,
   "id": "61aa0bc0",
   "metadata": {},
   "outputs": [
    {
     "name": "stdout",
     "output_type": "stream",
     "text": [
      "<class 'str'>\n"
     ]
    }
   ],
   "source": [
    "print(type('aws'))"
   ]
  },
  {
   "cell_type": "code",
   "execution_count": 4,
   "id": "f0e20bbb",
   "metadata": {},
   "outputs": [
    {
     "name": "stdout",
     "output_type": "stream",
     "text": [
      "<class 'float'>\n"
     ]
    }
   ],
   "source": [
    "print(type(1.2356))"
   ]
  },
  {
   "cell_type": "code",
   "execution_count": 6,
   "id": "c7335e95",
   "metadata": {},
   "outputs": [],
   "source": [
    "class test:   #syntax - to declare a class in python , we need to use 'class' keyword and test-- it is a class name\n",
    "    pass\n",
    "    "
   ]
  },
  {
   "cell_type": "code",
   "execution_count": 7,
   "id": "dd45ad5b",
   "metadata": {},
   "outputs": [
    {
     "name": "stdout",
     "output_type": "stream",
     "text": [
      "<class '__main__.Data'>\n"
     ]
    }
   ],
   "source": [
    "# create a class\n",
    "\n",
    "class Data:\n",
    "    num = 3.14\n",
    "print(Data)"
   ]
  },
  {
   "cell_type": "code",
   "execution_count": 10,
   "id": "fecb5691",
   "metadata": {},
   "outputs": [
    {
     "data": {
      "text/plain": [
       "3.14"
      ]
     },
     "execution_count": 10,
     "metadata": {},
     "output_type": "execute_result"
    }
   ],
   "source": [
    "# create an object \n",
    "\n",
    "class Data:\n",
    "    num = 3.14\n",
    "\n",
    "obj = Data()  #obj is a object of class Data\n",
    "obj.num       # to access the class variables we need to use dot operator"
   ]
  },
  {
   "cell_type": "code",
   "execution_count": 11,
   "id": "61e8522c",
   "metadata": {},
   "outputs": [],
   "source": [
    "a = test()"
   ]
  },
  {
   "cell_type": "code",
   "execution_count": 12,
   "id": "dd9e2b62",
   "metadata": {},
   "outputs": [
    {
     "name": "stdout",
     "output_type": "stream",
     "text": [
      "<class '__main__.test'>\n"
     ]
    }
   ],
   "source": [
    "print(type(a))"
   ]
  },
  {
   "cell_type": "code",
   "execution_count": 16,
   "id": "c8e25be2",
   "metadata": {},
   "outputs": [],
   "source": [
    "class datascilearn:\n",
    "    \n",
    "    \n",
    "    def welcome_msg(self):  #welcome_msg() -- it is a function or method , self is a reference variable\n",
    "        print('Welcome To All Our Youtube Channel')"
   ]
  },
  {
   "cell_type": "code",
   "execution_count": 17,
   "id": "5c857ae5",
   "metadata": {},
   "outputs": [],
   "source": [
    "rohan = datascilearn()"
   ]
  },
  {
   "cell_type": "code",
   "execution_count": 19,
   "id": "fef7d9bd",
   "metadata": {},
   "outputs": [
    {
     "name": "stdout",
     "output_type": "stream",
     "text": [
      "<class '__main__.datascilearn'>\n"
     ]
    }
   ],
   "source": [
    "print(type(rohan))"
   ]
  },
  {
   "cell_type": "code",
   "execution_count": 18,
   "id": "bbde8383",
   "metadata": {},
   "outputs": [
    {
     "name": "stdout",
     "output_type": "stream",
     "text": [
      "Welcome To All Our Youtube Channel\n"
     ]
    }
   ],
   "source": [
    "rohan.welcome_msg()"
   ]
  },
  {
   "cell_type": "code",
   "execution_count": 20,
   "id": "e6c72097",
   "metadata": {},
   "outputs": [],
   "source": [
    "mohan = datascilearn()"
   ]
  },
  {
   "cell_type": "code",
   "execution_count": 21,
   "id": "517aab4f",
   "metadata": {},
   "outputs": [
    {
     "name": "stdout",
     "output_type": "stream",
     "text": [
      "Welcome To All Our Youtube Channel\n"
     ]
    }
   ],
   "source": [
    "mohan.welcome_msg()"
   ]
  },
  {
   "cell_type": "code",
   "execution_count": 23,
   "id": "d593d513",
   "metadata": {},
   "outputs": [],
   "source": [
    "class car:\n",
    "    \n",
    "    def __init__(self,color,model):  #__init__ constructor\n",
    "        self.color = color\n",
    "        self.model = model\n",
    "        \n",
    "    def start(self):\n",
    "        return \"Engine Started\"\n",
    "    \n",
    "    \n",
    "# creating an object\n",
    "\n",
    "my_car = car(\"Blue\",\"Sedan\")"
   ]
  },
  {
   "cell_type": "code",
   "execution_count": 24,
   "id": "78185837",
   "metadata": {},
   "outputs": [
    {
     "data": {
      "text/plain": [
       "'Blue'"
      ]
     },
     "execution_count": 24,
     "metadata": {},
     "output_type": "execute_result"
    }
   ],
   "source": [
    "my_car.color"
   ]
  },
  {
   "cell_type": "code",
   "execution_count": 25,
   "id": "67570424",
   "metadata": {},
   "outputs": [
    {
     "data": {
      "text/plain": [
       "'Sedan'"
      ]
     },
     "execution_count": 25,
     "metadata": {},
     "output_type": "execute_result"
    }
   ],
   "source": [
    "my_car.model"
   ]
  },
  {
   "cell_type": "code",
   "execution_count": 26,
   "id": "3a27e620",
   "metadata": {},
   "outputs": [
    {
     "data": {
      "text/plain": [
       "'Engine Started'"
      ]
     },
     "execution_count": 26,
     "metadata": {},
     "output_type": "execute_result"
    }
   ],
   "source": [
    "my_car.start()"
   ]
  },
  {
   "cell_type": "code",
   "execution_count": 27,
   "id": "064afb19",
   "metadata": {},
   "outputs": [],
   "source": [
    "class infosys:\n",
    "    def __init__(self,emp_id, emp_name,emp_email_id):\n",
    "        self.emp_id = emp_id\n",
    "        self.emp_name = emp_name\n",
    "        self.emp_email_id = emp_email_id\n",
    "        \n",
    "    def return_employee_details(self):\n",
    "        return self.emp_id, self.emp_name, self.emp_email_id"
   ]
  },
  {
   "cell_type": "code",
   "execution_count": 28,
   "id": "1e5b6bbe",
   "metadata": {},
   "outputs": [],
   "source": [
    "obj1 = infosys(101,'rohan','rohan@gmail.com')"
   ]
  },
  {
   "cell_type": "code",
   "execution_count": 29,
   "id": "21bc0565",
   "metadata": {},
   "outputs": [
    {
     "data": {
      "text/plain": [
       "101"
      ]
     },
     "execution_count": 29,
     "metadata": {},
     "output_type": "execute_result"
    }
   ],
   "source": [
    "obj1.emp_id"
   ]
  },
  {
   "cell_type": "code",
   "execution_count": 30,
   "id": "4775cb66",
   "metadata": {},
   "outputs": [
    {
     "data": {
      "text/plain": [
       "'rohan'"
      ]
     },
     "execution_count": 30,
     "metadata": {},
     "output_type": "execute_result"
    }
   ],
   "source": [
    "obj1.emp_name"
   ]
  },
  {
   "cell_type": "code",
   "execution_count": 31,
   "id": "f88a26f2",
   "metadata": {},
   "outputs": [
    {
     "data": {
      "text/plain": [
       "'rohan@gmail.com'"
      ]
     },
     "execution_count": 31,
     "metadata": {},
     "output_type": "execute_result"
    }
   ],
   "source": [
    "obj1.emp_email_id"
   ]
  },
  {
   "cell_type": "code",
   "execution_count": 32,
   "id": "89ab26e4",
   "metadata": {},
   "outputs": [
    {
     "data": {
      "text/plain": [
       "(101, 'rohan', 'rohan@gmail.com')"
      ]
     },
     "execution_count": 32,
     "metadata": {},
     "output_type": "execute_result"
    }
   ],
   "source": [
    "obj1.return_employee_details()"
   ]
  },
  {
   "cell_type": "code",
   "execution_count": 39,
   "id": "86925166",
   "metadata": {},
   "outputs": [],
   "source": [
    "class infosys1:\n",
    "    def __init__(self,emp_id, emp_name,emp_email_id):\n",
    "        self.emp_id1 = emp_id\n",
    "        self.emp_name1 = emp_name\n",
    "        self.emp_email_id1 = emp_email_id\n",
    "        \n",
    "    def return_employee_details(self):\n",
    "        return self.emp_id1, self.emp_name1, self.emp_email_id1"
   ]
  },
  {
   "cell_type": "code",
   "execution_count": 40,
   "id": "b5e59116",
   "metadata": {},
   "outputs": [],
   "source": [
    "obj2 = infosys1(102,'mohan','mohan@gmail.com')"
   ]
  },
  {
   "cell_type": "code",
   "execution_count": 41,
   "id": "bbb62fe0",
   "metadata": {},
   "outputs": [
    {
     "data": {
      "text/plain": [
       "102"
      ]
     },
     "execution_count": 41,
     "metadata": {},
     "output_type": "execute_result"
    }
   ],
   "source": [
    "obj2.emp_id1"
   ]
  },
  {
   "cell_type": "code",
   "execution_count": 42,
   "id": "e874fed9",
   "metadata": {},
   "outputs": [
    {
     "data": {
      "text/plain": [
       "'mohan@gmail.com'"
      ]
     },
     "execution_count": 42,
     "metadata": {},
     "output_type": "execute_result"
    }
   ],
   "source": [
    "obj2.emp_email_id1"
   ]
  },
  {
   "cell_type": "code",
   "execution_count": 43,
   "id": "a14dd552",
   "metadata": {},
   "outputs": [
    {
     "data": {
      "text/plain": [
       "'mohan'"
      ]
     },
     "execution_count": 43,
     "metadata": {},
     "output_type": "execute_result"
    }
   ],
   "source": [
    "obj2.emp_name1"
   ]
  },
  {
   "cell_type": "code",
   "execution_count": 44,
   "id": "52470ad7",
   "metadata": {},
   "outputs": [
    {
     "data": {
      "text/plain": [
       "(102, 'mohan', 'mohan@gmail.com')"
      ]
     },
     "execution_count": 44,
     "metadata": {},
     "output_type": "execute_result"
    }
   ],
   "source": [
    "obj2.return_employee_details()"
   ]
  },
  {
   "cell_type": "code",
   "execution_count": 45,
   "id": "b2111ecc",
   "metadata": {},
   "outputs": [],
   "source": [
    "class infosys2:\n",
    "    def __init__(aws,emp_id,emp_name,emp_email_id):\n",
    "        aws.emp_id1 = emp_id\n",
    "        aws.emp_name1 = emp_name\n",
    "        aws.emp_email_id1 = emp_email_id\n",
    "        \n",
    "        \n",
    "    def return_employee_details(aws):\n",
    "        return aws.emp_id1,aws.emp_name1,aws.emp_email_id1"
   ]
  },
  {
   "cell_type": "code",
   "execution_count": 46,
   "id": "bf6c37a1",
   "metadata": {},
   "outputs": [],
   "source": [
    "cloud = infosys2(103,'sohan','sohan@google.com')"
   ]
  },
  {
   "cell_type": "code",
   "execution_count": 47,
   "id": "a9570eef",
   "metadata": {},
   "outputs": [
    {
     "data": {
      "text/plain": [
       "'sohan@google.com'"
      ]
     },
     "execution_count": 47,
     "metadata": {},
     "output_type": "execute_result"
    }
   ],
   "source": [
    "cloud.emp_email_id1"
   ]
  },
  {
   "cell_type": "code",
   "execution_count": 48,
   "id": "7790600c",
   "metadata": {},
   "outputs": [
    {
     "data": {
      "text/plain": [
       "103"
      ]
     },
     "execution_count": 48,
     "metadata": {},
     "output_type": "execute_result"
    }
   ],
   "source": [
    "cloud.emp_id1"
   ]
  },
  {
   "cell_type": "code",
   "execution_count": 49,
   "id": "95642dc3",
   "metadata": {},
   "outputs": [
    {
     "data": {
      "text/plain": [
       "'sohan'"
      ]
     },
     "execution_count": 49,
     "metadata": {},
     "output_type": "execute_result"
    }
   ],
   "source": [
    "cloud.emp_name1"
   ]
  },
  {
   "cell_type": "code",
   "execution_count": 50,
   "id": "f5b4d47b",
   "metadata": {},
   "outputs": [
    {
     "data": {
      "text/plain": [
       "(103, 'sohan', 'sohan@google.com')"
      ]
     },
     "execution_count": 50,
     "metadata": {},
     "output_type": "execute_result"
    }
   ],
   "source": [
    "cloud.return_employee_details()"
   ]
  },
  {
   "cell_type": "code",
   "execution_count": null,
   "id": "843166aa",
   "metadata": {},
   "outputs": [],
   "source": []
  }
 ],
 "metadata": {
  "kernelspec": {
   "display_name": "Python 3 (ipykernel)",
   "language": "python",
   "name": "python3"
  },
  "language_info": {
   "codemirror_mode": {
    "name": "ipython",
    "version": 3
   },
   "file_extension": ".py",
   "mimetype": "text/x-python",
   "name": "python",
   "nbconvert_exporter": "python",
   "pygments_lexer": "ipython3",
   "version": "3.9.13"
  }
 },
 "nbformat": 4,
 "nbformat_minor": 5
}
