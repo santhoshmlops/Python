{
 "cells": [
  {
   "cell_type": "markdown",
   "id": "0a551565",
   "metadata": {},
   "source": [
    "# Inheritance\n",
    "\n",
    "1. In Python, Inheritance is a fundamental OOP concept that allows a class(subclass/derived/child class) to inherit attributes and methods from another class(parent/base/superclass).\n",
    "2. It promotes code resuability and helps in creating a hierarchy of classes."
   ]
  },
  {
   "cell_type": "code",
   "execution_count": 30,
   "id": "ffce862c",
   "metadata": {},
   "outputs": [],
   "source": [
    "class parent:\n",
    "    \n",
    "    def test_parent(self):\n",
    "        print(\"This is my parent class\")"
   ]
  },
  {
   "cell_type": "code",
   "execution_count": 32,
   "id": "07327dbb",
   "metadata": {},
   "outputs": [],
   "source": [
    "class child(parent):\n",
    "    pass"
   ]
  },
  {
   "cell_type": "code",
   "execution_count": 33,
   "id": "ba573de4",
   "metadata": {},
   "outputs": [],
   "source": [
    "child_obj = child()"
   ]
  },
  {
   "cell_type": "code",
   "execution_count": 34,
   "id": "05c4c4a4",
   "metadata": {},
   "outputs": [
    {
     "name": "stdout",
     "output_type": "stream",
     "text": [
      "This is my parent class\n"
     ]
    }
   ],
   "source": [
    "child_obj.test_parent()"
   ]
  },
  {
   "cell_type": "markdown",
   "id": "14daef65",
   "metadata": {},
   "source": [
    "# Multi-Level Inheritance"
   ]
  },
  {
   "cell_type": "code",
   "execution_count": 35,
   "id": "a87804af",
   "metadata": {},
   "outputs": [],
   "source": [
    "class class1:\n",
    "    def test_class1(self):\n",
    "        print(\"This is my class 1\")"
   ]
  },
  {
   "cell_type": "code",
   "execution_count": 36,
   "id": "22dc631d",
   "metadata": {},
   "outputs": [],
   "source": [
    "class class2(class1):\n",
    "    def test_class2(self):\n",
    "        print(\"This is my class 2\")"
   ]
  },
  {
   "cell_type": "code",
   "execution_count": 39,
   "id": "ef9d5567",
   "metadata": {},
   "outputs": [],
   "source": [
    "class class3(class2):\n",
    "    def test_class3(self):\n",
    "        print(\"This is my class 3\")"
   ]
  },
  {
   "cell_type": "code",
   "execution_count": 40,
   "id": "0442cba2",
   "metadata": {},
   "outputs": [],
   "source": [
    "obj_class3 = class3()"
   ]
  },
  {
   "cell_type": "code",
   "execution_count": 41,
   "id": "86d3f722",
   "metadata": {},
   "outputs": [
    {
     "name": "stdout",
     "output_type": "stream",
     "text": [
      "This is my class 2\n"
     ]
    }
   ],
   "source": [
    "obj_class3.test_class2()"
   ]
  },
  {
   "cell_type": "code",
   "execution_count": 42,
   "id": "57a52912",
   "metadata": {},
   "outputs": [
    {
     "name": "stdout",
     "output_type": "stream",
     "text": [
      "This is my class 1\n"
     ]
    }
   ],
   "source": [
    "obj_class3.test_class1()"
   ]
  },
  {
   "cell_type": "markdown",
   "id": "ae5940b6",
   "metadata": {},
   "source": [
    "# Multiple Inheritance"
   ]
  },
  {
   "cell_type": "code",
   "execution_count": 43,
   "id": "aaef4bc8",
   "metadata": {},
   "outputs": [],
   "source": [
    "class class1:\n",
    "    def test_class1(self):\n",
    "        print(\"This is my class 1\")"
   ]
  },
  {
   "cell_type": "code",
   "execution_count": 44,
   "id": "2a27b934",
   "metadata": {},
   "outputs": [],
   "source": [
    "class class2:\n",
    "    def test_class2(self):\n",
    "        print(\"This is my class 2\")"
   ]
  },
  {
   "cell_type": "code",
   "execution_count": 46,
   "id": "7c4132f7",
   "metadata": {},
   "outputs": [],
   "source": [
    "class class3(class1 , class2):\n",
    "    pass"
   ]
  },
  {
   "cell_type": "code",
   "execution_count": 47,
   "id": "6c990185",
   "metadata": {},
   "outputs": [],
   "source": [
    "obj3_class3 = class3()"
   ]
  },
  {
   "cell_type": "code",
   "execution_count": 48,
   "id": "678b5273",
   "metadata": {},
   "outputs": [
    {
     "name": "stdout",
     "output_type": "stream",
     "text": [
      "This is my class 1\n"
     ]
    }
   ],
   "source": [
    "obj3_class3.test_class1()"
   ]
  },
  {
   "cell_type": "code",
   "execution_count": 49,
   "id": "7db32d0a",
   "metadata": {},
   "outputs": [
    {
     "name": "stdout",
     "output_type": "stream",
     "text": [
      "This is my class 2\n"
     ]
    }
   ],
   "source": [
    "obj3_class3.test_class2()"
   ]
  },
  {
   "cell_type": "markdown",
   "id": "d7042eaf",
   "metadata": {},
   "source": [
    "# Differnce btw Multi-level and Multiple Inheritance\n",
    "\n",
    "- The main difference between the two is the way the inheritance hierarchy is structured. In multi-level inheritance, the hierarchy is structured as a linear chain, with each subclass inheriting from one parent class only. In multiple inheritance, the hierarchy can be more complex, with a subclass inheriting from multiple parent classes at the same time."
   ]
  },
  {
   "cell_type": "markdown",
   "id": "3c5a328f",
   "metadata": {},
   "source": [
    "# Method Overriding in Python \n",
    "\n",
    "- Same method Signature : The overriden method in the subclass must have the same name and the same parameter(including the same order and types) as the method in the parent class.\n",
    "- The method in the subclass is said to oberride the method in the parent class."
   ]
  },
  {
   "cell_type": "code",
   "execution_count": 55,
   "id": "076c464d",
   "metadata": {},
   "outputs": [
    {
     "name": "stdout",
     "output_type": "stream",
     "text": [
      "Generic animal sound\n",
      "Woof!\n",
      "Meow!\n"
     ]
    }
   ],
   "source": [
    "class Animal:\n",
    "    def speak(self):\n",
    "        return \"Generic animal sound\"\n",
    "    \n",
    "class Dog(Animal):\n",
    "    def speak(self):\n",
    "        return \"Woof!\"\n",
    "    \n",
    "class Cat(Animal):\n",
    "    def speak(self):\n",
    "        return 'Meow!'\n",
    "    \n",
    "    \n",
    "generic_animal = Animal()\n",
    "dog = Dog()\n",
    "cat = Cat()\n",
    "\n",
    "#using overriden methods\n",
    "print(generic_animal.speak())\n",
    "print(dog.speak())\n",
    "print(cat.speak())\n",
    "    \n"
   ]
  },
  {
   "cell_type": "markdown",
   "id": "db92b489",
   "metadata": {},
   "source": [
    "# Polymorphism "
   ]
  },
  {
   "cell_type": "code",
   "execution_count": 56,
   "id": "16340650",
   "metadata": {},
   "outputs": [],
   "source": [
    "def test(a,b):\n",
    "    return a+b"
   ]
  },
  {
   "cell_type": "code",
   "execution_count": 57,
   "id": "54c1ee54",
   "metadata": {},
   "outputs": [
    {
     "data": {
      "text/plain": [
       "9"
      ]
     },
     "execution_count": 57,
     "metadata": {},
     "output_type": "execute_result"
    }
   ],
   "source": [
    "test(3,6)"
   ]
  },
  {
   "cell_type": "code",
   "execution_count": 58,
   "id": "301c7938",
   "metadata": {},
   "outputs": [
    {
     "data": {
      "text/plain": [
       "'datascience'"
      ]
     },
     "execution_count": 58,
     "metadata": {},
     "output_type": "execute_result"
    }
   ],
   "source": [
    "test('data','science')"
   ]
  },
  {
   "cell_type": "code",
   "execution_count": 59,
   "id": "25241c11",
   "metadata": {},
   "outputs": [
    {
     "data": {
      "text/plain": [
       "[1, 2, 3, 4, 5, 6, 7, 8]"
      ]
     },
     "execution_count": 59,
     "metadata": {},
     "output_type": "execute_result"
    }
   ],
   "source": [
    "test([1,2,3,4],[5,6,7,8])"
   ]
  },
  {
   "cell_type": "code",
   "execution_count": 75,
   "id": "cf5a5d2e",
   "metadata": {},
   "outputs": [],
   "source": [
    "class data_science:\n",
    "    \n",
    "    def syllabus(self):\n",
    "        print(\"This is my syllabus of Python\")"
   ]
  },
  {
   "cell_type": "code",
   "execution_count": 76,
   "id": "d1d7b769",
   "metadata": {},
   "outputs": [],
   "source": [
    "class cloud:\n",
    "    \n",
    "    def syllabus(self):\n",
    "        print(\"This is my syllabus of aws\")"
   ]
  },
  {
   "cell_type": "code",
   "execution_count": 77,
   "id": "f3228005",
   "metadata": {},
   "outputs": [],
   "source": [
    "def class_parcer(project):\n",
    "    \n",
    "    for i in project:\n",
    "        i.syllabus()"
   ]
  },
  {
   "cell_type": "code",
   "execution_count": 78,
   "id": "0b7df859",
   "metadata": {},
   "outputs": [],
   "source": [
    "data_science = data_science()"
   ]
  },
  {
   "cell_type": "code",
   "execution_count": 79,
   "id": "bfb4a22c",
   "metadata": {},
   "outputs": [],
   "source": [
    "cloud = cloud()"
   ]
  },
  {
   "cell_type": "code",
   "execution_count": 80,
   "id": "4a3f816d",
   "metadata": {},
   "outputs": [],
   "source": [
    "project = [data_science, cloud]"
   ]
  },
  {
   "cell_type": "code",
   "execution_count": 81,
   "id": "d00db110",
   "metadata": {},
   "outputs": [
    {
     "name": "stdout",
     "output_type": "stream",
     "text": [
      "This is my syllabus of Python\n",
      "This is my syllabus of aws\n"
     ]
    }
   ],
   "source": [
    "class_parcer(project)"
   ]
  },
  {
   "cell_type": "markdown",
   "id": "337e0039",
   "metadata": {},
   "source": [
    "# Abstraction\n",
    "\n",
    "- It is one of the key principles of OOPs and it's aim at simplifying complex sytems.\n",
    "- Abraction in python involves creating abstract classes with abstract methods, providing a blueprint for subclasses to implement specific behaviours and promoting simplified and modular by design by hiding unnecessary details."
   ]
  },
  {
   "cell_type": "code",
   "execution_count": 82,
   "id": "088468b9",
   "metadata": {},
   "outputs": [],
   "source": [
    "import abc\n",
    "\n",
    "class datascilearn:\n",
    "    \n",
    "    @abc.abstractmethod\n",
    "    def student_details(self):\n",
    "        pass\n",
    "    \n",
    "    @abc.abstractmethod\n",
    "    def student_assignment(self):\n",
    "        pass\n",
    "    \n",
    "    @abc.abstractmethod\n",
    "    def student_marks(self):\n",
    "        pass\n",
    "    "
   ]
  },
  {
   "cell_type": "code",
   "execution_count": 83,
   "id": "ee8081e2",
   "metadata": {},
   "outputs": [],
   "source": [
    "class student(datascilearn):\n",
    "    \n",
    "    def student_details(self):\n",
    "        return \"This is a method for taking students details\"\n",
    "    \n",
    "    def student_assignment(self):\n",
    "        return \"This is a method for assig details for a particular students\""
   ]
  },
  {
   "cell_type": "code",
   "execution_count": 86,
   "id": "67fce8b7",
   "metadata": {},
   "outputs": [],
   "source": [
    "class data_science_master(datascilearn):\n",
    "    \n",
    "     def student_details(self):\n",
    "        return \"This will return a student details for a data science master\"\n",
    "    \n",
    "     def student_assignment(self):\n",
    "        return \"This iwill give you a student assignment details for data science master\"\n"
   ]
  },
  {
   "cell_type": "code",
   "execution_count": 87,
   "id": "af76b870",
   "metadata": {},
   "outputs": [
    {
     "data": {
      "text/plain": [
       "'This will return a student details for a data science master'"
      ]
     },
     "execution_count": 87,
     "metadata": {},
     "output_type": "execute_result"
    }
   ],
   "source": [
    "dsm = data_science_master()\n",
    "dsm.student_details()"
   ]
  },
  {
   "cell_type": "code",
   "execution_count": 88,
   "id": "13994109",
   "metadata": {},
   "outputs": [
    {
     "data": {
      "text/plain": [
       "'This is a method for taking students details'"
      ]
     },
     "execution_count": 88,
     "metadata": {},
     "output_type": "execute_result"
    }
   ],
   "source": [
    "std = student()\n",
    "std.student_details()"
   ]
  },
  {
   "cell_type": "code",
   "execution_count": 89,
   "id": "f32c2e15",
   "metadata": {},
   "outputs": [],
   "source": [
    "from abc import ABC , abstractmethod"
   ]
  },
  {
   "cell_type": "code",
   "execution_count": 90,
   "id": "a91c7b02",
   "metadata": {},
   "outputs": [],
   "source": [
    "# Abstract class\n",
    "class Shape(ABC):\n",
    "    @abstractmethod\n",
    "    def area(self):\n",
    "        pass"
   ]
  },
  {
   "cell_type": "code",
   "execution_count": 97,
   "id": "e0c7efa5",
   "metadata": {},
   "outputs": [],
   "source": [
    "# Concrete subclass\n",
    "\n",
    "class Circle(Shape):\n",
    "    def __init__(self,radius):\n",
    "        self.radius = radius\n",
    "        \n",
    "    def area(self):\n",
    "        return 3.14 * self.radius**2\n",
    "\n",
    "class Square(Shape):\n",
    "    def __init__(self, side_length):\n",
    "        self.side_length = side_length\n",
    "        \n",
    "    def area(self):\n",
    "        return self.side_length**2\n"
   ]
  },
  {
   "cell_type": "code",
   "execution_count": 98,
   "id": "81735cf3",
   "metadata": {},
   "outputs": [],
   "source": [
    "# creating a instance \n",
    "circle = Circle(5)\n",
    "square = Square(4)"
   ]
  },
  {
   "cell_type": "code",
   "execution_count": 99,
   "id": "3206b025",
   "metadata": {},
   "outputs": [
    {
     "name": "stdout",
     "output_type": "stream",
     "text": [
      "78.5\n",
      "16\n"
     ]
    }
   ],
   "source": [
    "#using abstract method \n",
    "\n",
    "print(circle.area())\n",
    "print(square.area())"
   ]
  },
  {
   "cell_type": "code",
   "execution_count": null,
   "id": "e51e6f76",
   "metadata": {},
   "outputs": [],
   "source": []
  }
 ],
 "metadata": {
  "kernelspec": {
   "display_name": "Python 3 (ipykernel)",
   "language": "python",
   "name": "python3"
  },
  "language_info": {
   "codemirror_mode": {
    "name": "ipython",
    "version": 3
   },
   "file_extension": ".py",
   "mimetype": "text/x-python",
   "name": "python",
   "nbconvert_exporter": "python",
   "pygments_lexer": "ipython3",
   "version": "3.9.13"
  }
 },
 "nbformat": 4,
 "nbformat_minor": 5
}
