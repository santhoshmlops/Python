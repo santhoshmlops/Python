{
 "cells": [
  {
   "cell_type": "markdown",
   "id": "33f16de3",
   "metadata": {},
   "source": [
    "# List of General Use  Exception "
   ]
  },
  {
   "cell_type": "code",
   "execution_count": 2,
   "id": "07b19cd6",
   "metadata": {},
   "outputs": [
    {
     "name": "stdout",
     "output_type": "stream",
     "text": [
      "division by zero\n"
     ]
    }
   ],
   "source": [
    "try:\n",
    "    a = 10/0\n",
    "except ZeroDivisionError as e:\n",
    "    print(e)\n"
   ]
  },
  {
   "cell_type": "code",
   "execution_count": 5,
   "id": "8c9c6e73",
   "metadata": {},
   "outputs": [
    {
     "name": "stdout",
     "output_type": "stream",
     "text": [
      "invalid literal for int() with base 10: 'datascience'\n"
     ]
    }
   ],
   "source": [
    "try:\n",
    "    int('datascience')\n",
    "except (ValueError,TypeError) as e:\n",
    "    print(e)"
   ]
  },
  {
   "cell_type": "code",
   "execution_count": 4,
   "id": "7a62941f",
   "metadata": {},
   "outputs": [
    {
     "ename": "ValueError",
     "evalue": "invalid literal for int() with base 10: 'datascience'",
     "output_type": "error",
     "traceback": [
      "\u001b[1;31m---------------------------------------------------------------------------\u001b[0m",
      "\u001b[1;31mValueError\u001b[0m                                Traceback (most recent call last)",
      "\u001b[1;32m~\\AppData\\Local\\Temp\\ipykernel_17092\\2184580491.py\u001b[0m in \u001b[0;36m<module>\u001b[1;34m\u001b[0m\n\u001b[1;32m----> 1\u001b[1;33m \u001b[0mint\u001b[0m\u001b[1;33m(\u001b[0m\u001b[1;34m'datascience'\u001b[0m\u001b[1;33m)\u001b[0m\u001b[1;33m\u001b[0m\u001b[1;33m\u001b[0m\u001b[0m\n\u001b[0m",
      "\u001b[1;31mValueError\u001b[0m: invalid literal for int() with base 10: 'datascience'"
     ]
    }
   ],
   "source": [
    "int('datascience')"
   ]
  },
  {
   "cell_type": "code",
   "execution_count": 6,
   "id": "a392647d",
   "metadata": {},
   "outputs": [
    {
     "name": "stdout",
     "output_type": "stream",
     "text": [
      "This is will catch an error\n"
     ]
    }
   ],
   "source": [
    "try:\n",
    "    int('datascience')\n",
    "except:\n",
    "    print('This is will catch an error')"
   ]
  },
  {
   "cell_type": "code",
   "execution_count": 7,
   "id": "a20de75a",
   "metadata": {},
   "outputs": [
    {
     "name": "stdout",
     "output_type": "stream",
     "text": [
      "No module named 'maynak'\n"
     ]
    }
   ],
   "source": [
    "try:\n",
    "    import maynak\n",
    "except ImportError as e:\n",
    "    print(e)"
   ]
  },
  {
   "cell_type": "code",
   "execution_count": 8,
   "id": "6e0a73a7",
   "metadata": {},
   "outputs": [
    {
     "name": "stdout",
     "output_type": "stream",
     "text": [
      "'key2'\n"
     ]
    }
   ],
   "source": [
    "try:\n",
    "    d = {'key':'aws',1:[2,3,45,]}\n",
    "    print(d['key2'])\n",
    "except KeyError as e:\n",
    "    print(e)"
   ]
  },
  {
   "cell_type": "code",
   "execution_count": 11,
   "id": "64d7673e",
   "metadata": {},
   "outputs": [
    {
     "name": "stdout",
     "output_type": "stream",
     "text": [
      "list index out of range\n"
     ]
    }
   ],
   "source": [
    "try:\n",
    "    l = [5,6,7,8]\n",
    "    print(l[100])\n",
    "except IndexError as e:\n",
    "    print(e)"
   ]
  },
  {
   "cell_type": "code",
   "execution_count": 12,
   "id": "9182fef4",
   "metadata": {},
   "outputs": [
    {
     "name": "stdout",
     "output_type": "stream",
     "text": [
      "unsupported operand type(s) for +: 'int' and 'str'\n"
     ]
    }
   ],
   "source": [
    "try:\n",
    "    123 + 'aws'\n",
    "except TypeError as e:\n",
    "    print(e)"
   ]
  },
  {
   "cell_type": "code",
   "execution_count": 13,
   "id": "5a0db679",
   "metadata": {},
   "outputs": [
    {
     "name": "stdout",
     "output_type": "stream",
     "text": [
      "[Errno 2] No such file or directory: 'type.txt'\n"
     ]
    }
   ],
   "source": [
    "try:\n",
    "    with open('type.txt','r') as e:\n",
    "        f.read()\n",
    "except FileNotFoundError as e:\n",
    "    print(e)"
   ]
  },
  {
   "cell_type": "code",
   "execution_count": 14,
   "id": "e2793179",
   "metadata": {},
   "outputs": [
    {
     "name": "stdout",
     "output_type": "stream",
     "text": [
      "[Errno 2] No such file or directory: 'type.txt'\n"
     ]
    }
   ],
   "source": [
    "try:\n",
    "    with open('type.txt','r') as e:\n",
    "        f.read()\n",
    "except Exception as e:\n",
    "    print(e)\n",
    "except FileNotFoundError as e:\n",
    "    print(\"type\",e)"
   ]
  },
  {
   "cell_type": "code",
   "execution_count": 15,
   "id": "d3026adf",
   "metadata": {},
   "outputs": [],
   "source": [
    "def test(file):\n",
    "    try:\n",
    "        with open('type.txt','r') as e:\n",
    "            file = f.read()\n",
    "    except Exception as e:\n",
    "        print(e)\n",
    "    except FileNotFoundError as e:\n",
    "        print(\"type\",e)"
   ]
  },
  {
   "cell_type": "markdown",
   "id": "65e27035",
   "metadata": {},
   "source": [
    "#  Best Practise for Exception Handling"
   ]
  },
  {
   "cell_type": "code",
   "execution_count": 17,
   "id": "f3109445",
   "metadata": {},
   "outputs": [
    {
     "name": "stdout",
     "output_type": "stream",
     "text": [
      "division by zero\n"
     ]
    }
   ],
   "source": [
    "#use always a specific exception\n",
    "\n",
    "try:\n",
    "    a = 10/0\n",
    "except ZeroDivisionError as e:\n",
    "    print(e)\n"
   ]
  },
  {
   "cell_type": "code",
   "execution_count": 18,
   "id": "b70a52a2",
   "metadata": {},
   "outputs": [
    {
     "name": "stdout",
     "output_type": "stream",
     "text": [
      "I am trying to handle a zerodivison error division by zero\n"
     ]
    }
   ],
   "source": [
    "#print always a proper message\n",
    "try:\n",
    "    a = 10/0\n",
    "except ZeroDivisionError as e:\n",
    "    print(\"I am trying to handle a zerodivison error\",e)"
   ]
  },
  {
   "cell_type": "code",
   "execution_count": 19,
   "id": "c8644f3f",
   "metadata": {},
   "outputs": [],
   "source": [
    "#always try to use to log your error\n",
    "import logging\n",
    "logging.basicConfig(filename= 'error2.log', level= logging.ERROR)\n",
    "try:\n",
    "    a = 10/0\n",
    "except ZeroDivisionError as e:\n",
    "    logging.error(\"I am trying to handle a zerodivison error {}\".format(e))\n",
    "   "
   ]
  },
  {
   "cell_type": "code",
   "execution_count": 20,
   "id": "be8de565",
   "metadata": {},
   "outputs": [],
   "source": [
    "# always avoid to write a multiple exception handling \n",
    "try:\n",
    "    a = 10/0\n",
    "\n",
    "except FileNotFoundError as e:\n",
    "    logging.error(\" I am handling file not found {}\".format(e))\n",
    "    \n",
    "except AttributeError as e:\n",
    "     logging.error(\" I am handling Attribute error {}\".format(e))\n",
    "\n",
    "    \n",
    "\n",
    "except ZeroDivisionError as e:\n",
    "    logging.error(\"I am trying to handle a zerodivison error {}\".format(e))"
   ]
  },
  {
   "cell_type": "code",
   "execution_count": null,
   "id": "77a25bed",
   "metadata": {},
   "outputs": [],
   "source": []
  }
 ],
 "metadata": {
  "kernelspec": {
   "display_name": "Python 3 (ipykernel)",
   "language": "python",
   "name": "python3"
  },
  "language_info": {
   "codemirror_mode": {
    "name": "ipython",
    "version": 3
   },
   "file_extension": ".py",
   "mimetype": "text/x-python",
   "name": "python",
   "nbconvert_exporter": "python",
   "pygments_lexer": "ipython3",
   "version": "3.9.13"
  }
 },
 "nbformat": 4,
 "nbformat_minor": 5
}
