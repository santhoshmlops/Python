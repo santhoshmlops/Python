{
 "cells": [
  {
   "cell_type": "markdown",
   "id": "0824fbd4",
   "metadata": {},
   "source": [
    "# Encapsulation \n",
    "\n",
    "1. It help in hiding the internal implemenation details of a class and exposing only what is necessary.\n",
    "2. Encapsulation is an OOPS concept that binds together the data and functions that manipulate the data, and keeps both safe from outside interference and misuse.\n",
    "3.  This allows you to modify parts of the implementation without affecting the code that uses the encapsulated classes and methods.\n",
    "4. In Python, we can implement encapsulation by using private instance attributes and methods in a class. Private attributes have names starting with double underscores __. "
   ]
  },
  {
   "cell_type": "code",
   "execution_count": 1,
   "id": "2b8db609",
   "metadata": {},
   "outputs": [],
   "source": [
    "class test:\n",
    "    \n",
    "    def __init__(self,a,b):\n",
    "        self.a = a\n",
    "        self.b = b\n",
    "    "
   ]
  },
  {
   "cell_type": "code",
   "execution_count": 2,
   "id": "dcbebedd",
   "metadata": {},
   "outputs": [],
   "source": [
    "t = test(23,24)"
   ]
  },
  {
   "cell_type": "code",
   "execution_count": 4,
   "id": "8cf6ede2",
   "metadata": {},
   "outputs": [],
   "source": [
    "t.a = 23456"
   ]
  },
  {
   "cell_type": "code",
   "execution_count": 5,
   "id": "42afd1a4",
   "metadata": {},
   "outputs": [
    {
     "data": {
      "text/plain": [
       "23456"
      ]
     },
     "execution_count": 5,
     "metadata": {},
     "output_type": "execute_result"
    }
   ],
   "source": [
    "t.a"
   ]
  },
  {
   "cell_type": "code",
   "execution_count": 16,
   "id": "5aac426a",
   "metadata": {},
   "outputs": [],
   "source": [
    "class car:\n",
    "    def __init__(self, year, make , model, speed):\n",
    "        \n",
    "        self.__year = year\n",
    "        self.__make = make\n",
    "        self.__model = model\n",
    "        self.__speed = 0\n",
    "        \n",
    "    def set_speed(self,speed):\n",
    "        self.__speed = 0 if speed < 0 else speed\n",
    "        \n",
    "    def get_speed(self):\n",
    "        return self.__speed\n",
    "        \n",
    "    \n",
    "        \n",
    "        "
   ]
  },
  {
   "cell_type": "code",
   "execution_count": 17,
   "id": "7b7ec02c",
   "metadata": {},
   "outputs": [],
   "source": [
    "c = car(2021,'maruti','swift',12)"
   ]
  },
  {
   "cell_type": "code",
   "execution_count": 18,
   "id": "9be51f66",
   "metadata": {},
   "outputs": [
    {
     "data": {
      "text/plain": [
       "2021"
      ]
     },
     "execution_count": 18,
     "metadata": {},
     "output_type": "execute_result"
    }
   ],
   "source": [
    "c._car__year"
   ]
  },
  {
   "cell_type": "code",
   "execution_count": 19,
   "id": "37814452",
   "metadata": {},
   "outputs": [],
   "source": [
    "c.set_speed(-320)"
   ]
  },
  {
   "cell_type": "code",
   "execution_count": 20,
   "id": "a35336d6",
   "metadata": {},
   "outputs": [
    {
     "data": {
      "text/plain": [
       "0"
      ]
     },
     "execution_count": 20,
     "metadata": {},
     "output_type": "execute_result"
    }
   ],
   "source": [
    "c.get_speed()"
   ]
  },
  {
   "cell_type": "code",
   "execution_count": 22,
   "id": "20e174d4",
   "metadata": {},
   "outputs": [],
   "source": [
    "c.set_speed(120)"
   ]
  },
  {
   "cell_type": "code",
   "execution_count": 23,
   "id": "8e3f717d",
   "metadata": {},
   "outputs": [
    {
     "data": {
      "text/plain": [
       "120"
      ]
     },
     "execution_count": 23,
     "metadata": {},
     "output_type": "execute_result"
    }
   ],
   "source": [
    "c.get_speed()"
   ]
  },
  {
   "cell_type": "code",
   "execution_count": 24,
   "id": "72dcb372",
   "metadata": {},
   "outputs": [],
   "source": [
    "class bank_account :\n",
    "    def __init__(self, balance):\n",
    "        self.__balance = balance\n",
    "        \n",
    "    def deposit(self,amount):\n",
    "        self.__balance = self.__balance + amount\n",
    "    \n",
    "    def withdraw(self,amount):\n",
    "        if self.__balance >= amount:\n",
    "            self.__balance = self.__balance - amount \n",
    "            return True\n",
    "        else :\n",
    "            return False\n",
    "        \n",
    "    def get_balance(self):\n",
    "        return self.__balance"
   ]
  },
  {
   "cell_type": "code",
   "execution_count": 26,
   "id": "875f73a8",
   "metadata": {},
   "outputs": [],
   "source": [
    "rohan = bank_account(1000)"
   ]
  },
  {
   "cell_type": "code",
   "execution_count": 27,
   "id": "79a67acd",
   "metadata": {},
   "outputs": [
    {
     "data": {
      "text/plain": [
       "1000"
      ]
     },
     "execution_count": 27,
     "metadata": {},
     "output_type": "execute_result"
    }
   ],
   "source": [
    "rohan.get_balance()"
   ]
  },
  {
   "cell_type": "code",
   "execution_count": 28,
   "id": "af1a57a1",
   "metadata": {},
   "outputs": [],
   "source": [
    "rohan.deposit(5000)"
   ]
  },
  {
   "cell_type": "code",
   "execution_count": 29,
   "id": "f3273c9f",
   "metadata": {},
   "outputs": [
    {
     "data": {
      "text/plain": [
       "6000"
      ]
     },
     "execution_count": 29,
     "metadata": {},
     "output_type": "execute_result"
    }
   ],
   "source": [
    "rohan.get_balance()"
   ]
  },
  {
   "cell_type": "code",
   "execution_count": 30,
   "id": "9c745bbf",
   "metadata": {},
   "outputs": [
    {
     "data": {
      "text/plain": [
       "False"
      ]
     },
     "execution_count": 30,
     "metadata": {},
     "output_type": "execute_result"
    }
   ],
   "source": [
    "rohan.withdraw(9000)"
   ]
  },
  {
   "cell_type": "code",
   "execution_count": 31,
   "id": "a14fc8d8",
   "metadata": {},
   "outputs": [
    {
     "data": {
      "text/plain": [
       "True"
      ]
     },
     "execution_count": 31,
     "metadata": {},
     "output_type": "execute_result"
    }
   ],
   "source": [
    "rohan.withdraw(2000)"
   ]
  },
  {
   "cell_type": "code",
   "execution_count": 32,
   "id": "351a2808",
   "metadata": {},
   "outputs": [
    {
     "data": {
      "text/plain": [
       "4000"
      ]
     },
     "execution_count": 32,
     "metadata": {},
     "output_type": "execute_result"
    }
   ],
   "source": [
    "rohan.get_balance()"
   ]
  },
  {
   "cell_type": "code",
   "execution_count": 33,
   "id": "94c817c8",
   "metadata": {},
   "outputs": [],
   "source": [
    "rohan.deposit(10000)"
   ]
  },
  {
   "cell_type": "code",
   "execution_count": 34,
   "id": "dd338246",
   "metadata": {},
   "outputs": [
    {
     "data": {
      "text/plain": [
       "14000"
      ]
     },
     "execution_count": 34,
     "metadata": {},
     "output_type": "execute_result"
    }
   ],
   "source": [
    "rohan.get_balance()"
   ]
  },
  {
   "cell_type": "code",
   "execution_count": null,
   "id": "b4c0b1bb",
   "metadata": {},
   "outputs": [],
   "source": []
  }
 ],
 "metadata": {
  "kernelspec": {
   "display_name": "Python 3 (ipykernel)",
   "language": "python",
   "name": "python3"
  },
  "language_info": {
   "codemirror_mode": {
    "name": "ipython",
    "version": 3
   },
   "file_extension": ".py",
   "mimetype": "text/x-python",
   "name": "python",
   "nbconvert_exporter": "python",
   "pygments_lexer": "ipython3",
   "version": "3.9.13"
  }
 },
 "nbformat": 4,
 "nbformat_minor": 5
}
