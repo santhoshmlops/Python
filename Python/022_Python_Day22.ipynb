{
 "cells": [
  {
   "cell_type": "markdown",
   "id": "2cfa2344",
   "metadata": {},
   "source": [
    "# Exception Handling in Python \n",
    "\n",
    "\n",
    "- An exception is an event, which occurs during the execution of a program that disrupts the normal flow of\n",
    "  the program's instructions.\n",
    "- In general, when a Python script encounters a situation that it cannot cope with, it raises an exception.\n",
    "- An exception is a Python object that represents an error.\n",
    "- When a Python script raises an exception, it must either handle the exception immediately otherwise it\n",
    "  terminates and quits\n",
    "  \n",
    "  \n",
    "### It is done in Python using try-except- finally keyword\n",
    "  \n",
    "- try: The code in try section is the part of the code where the code is to be tested\n",
    "     for exceptions.\n",
    "- except: Here, the cases in the original code, which can break the code, are\n",
    "   written, and what to do in that scenario by the program.\n",
    "- finally: The code in the finally block will execute whether or not an exception\n",
    "  has been encountered by the program."
   ]
  },
  {
   "cell_type": "code",
   "execution_count": 1,
   "id": "d6069db0",
   "metadata": {},
   "outputs": [],
   "source": [
    "a = 10"
   ]
  },
  {
   "cell_type": "code",
   "execution_count": 2,
   "id": "7aac9c52",
   "metadata": {},
   "outputs": [
    {
     "ename": "ZeroDivisionError",
     "evalue": "division by zero",
     "output_type": "error",
     "traceback": [
      "\u001b[1;31m---------------------------------------------------------------------------\u001b[0m",
      "\u001b[1;31mZeroDivisionError\u001b[0m                         Traceback (most recent call last)",
      "\u001b[1;32m~\\AppData\\Local\\Temp\\ipykernel_2152\\4102073204.py\u001b[0m in \u001b[0;36m<module>\u001b[1;34m\u001b[0m\n\u001b[1;32m----> 1\u001b[1;33m \u001b[0ma\u001b[0m\u001b[1;33m/\u001b[0m\u001b[1;36m0\u001b[0m\u001b[1;33m\u001b[0m\u001b[1;33m\u001b[0m\u001b[0m\n\u001b[0m",
      "\u001b[1;31mZeroDivisionError\u001b[0m: division by zero"
     ]
    }
   ],
   "source": [
    "a/0"
   ]
  },
  {
   "cell_type": "code",
   "execution_count": 4,
   "id": "f7babe95",
   "metadata": {},
   "outputs": [
    {
     "ename": "FileNotFoundError",
     "evalue": "[Errno 2] No such file or directory: 'azure.txt'",
     "output_type": "error",
     "traceback": [
      "\u001b[1;31m---------------------------------------------------------------------------\u001b[0m",
      "\u001b[1;31mFileNotFoundError\u001b[0m                         Traceback (most recent call last)",
      "\u001b[1;32m~\\AppData\\Local\\Temp\\ipykernel_2152\\3078875344.py\u001b[0m in \u001b[0;36m<module>\u001b[1;34m\u001b[0m\n\u001b[1;32m----> 1\u001b[1;33m \u001b[0mf\u001b[0m \u001b[1;33m=\u001b[0m \u001b[0mopen\u001b[0m\u001b[1;33m(\u001b[0m\u001b[1;34m\"azure.txt\"\u001b[0m\u001b[1;33m,\u001b[0m\u001b[1;34m'r'\u001b[0m\u001b[1;33m)\u001b[0m\u001b[1;33m\u001b[0m\u001b[1;33m\u001b[0m\u001b[0m\n\u001b[0m\u001b[0;32m      2\u001b[0m \u001b[0mprint\u001b[0m\u001b[1;33m(\u001b[0m\u001b[1;34m\"This is my print statement\"\u001b[0m\u001b[1;33m)\u001b[0m\u001b[1;33m\u001b[0m\u001b[1;33m\u001b[0m\u001b[0m\n",
      "\u001b[1;31mFileNotFoundError\u001b[0m: [Errno 2] No such file or directory: 'azure.txt'"
     ]
    }
   ],
   "source": [
    "f = open(\"azure.txt\",'r')\n",
    "print(\"This is my print statement\")"
   ]
  },
  {
   "cell_type": "code",
   "execution_count": 7,
   "id": "a0170bd3",
   "metadata": {},
   "outputs": [
    {
     "name": "stdout",
     "output_type": "stream",
     "text": [
      "This is my print block [Errno 2] No such file or directory: 'azure.txt'\n"
     ]
    },
    {
     "data": {
      "text/plain": [
       "80"
      ]
     },
     "execution_count": 7,
     "metadata": {},
     "output_type": "execute_result"
    }
   ],
   "source": [
    "try :\n",
    "    \n",
    "    f = open('azure.txt','r')\n",
    "    \n",
    "except Exception as e:\n",
    "    print(\"This is my print block\", e)\n",
    "    \n",
    "a = 4*20\n",
    "a\n",
    "    "
   ]
  },
  {
   "cell_type": "code",
   "execution_count": 11,
   "id": "db3cb6c5",
   "metadata": {},
   "outputs": [],
   "source": [
    "try :\n",
    "    \n",
    "    f = open('deeplearning.txt','w')\n",
    "    f.write(\"write into my file\")\n",
    "    f.close()\n",
    "except Exception as e:\n",
    "    print(\"This is my except block\", e)\n",
    "   "
   ]
  },
  {
   "cell_type": "code",
   "execution_count": 12,
   "id": "69161c15",
   "metadata": {},
   "outputs": [],
   "source": [
    "try :\n",
    "    \n",
    "    f = open('python.txt','w')\n",
    "    f.write(\"Python is a prog lang\")\n",
    "except Exception as e:\n",
    "    print(\"This is my except block\", e)\n",
    "    \n",
    "else:\n",
    "    f.close()\n",
    "   "
   ]
  },
  {
   "cell_type": "code",
   "execution_count": 15,
   "id": "49e34375",
   "metadata": {},
   "outputs": [
    {
     "name": "stdout",
     "output_type": "stream",
     "text": [
      "This will be executed once your try block wil execute without error\n"
     ]
    }
   ],
   "source": [
    "try :\n",
    "    \n",
    "    f = open('java.txt','w')\n",
    "    f.write(\"java is a prog lang\")\n",
    "except Exception as e:\n",
    "    print(\"This is my except block\", e)\n",
    "    \n",
    "else:\n",
    "    f.close()\n",
    "    print(\"This will be executed once your try block wil execute without error\")\n",
    "    \n"
   ]
  },
  {
   "cell_type": "code",
   "execution_count": 17,
   "id": "2dfcf890",
   "metadata": {},
   "outputs": [
    {
     "name": "stdout",
     "output_type": "stream",
     "text": [
      "This is my except block [Errno 2] No such file or directory: 'java1.txt'\n"
     ]
    }
   ],
   "source": [
    "try :\n",
    "    \n",
    "    f = open('java1.txt','r')\n",
    "    f.write(\"java is a prog lang\")\n",
    "except Exception as e:\n",
    "    print(\"This is my except block\", e)\n",
    "    \n",
    "else:\n",
    "    f.close()\n",
    "    print(\"This will be executed once your try block wil execute without error\")\n",
    "    "
   ]
  },
  {
   "cell_type": "code",
   "execution_count": 18,
   "id": "22d61866",
   "metadata": {},
   "outputs": [
    {
     "name": "stdout",
     "output_type": "stream",
     "text": [
      "Finally will execute itself in any situation\n"
     ]
    },
    {
     "ename": "FileNotFoundError",
     "evalue": "[Errno 2] No such file or directory: 'java2.txt'",
     "output_type": "error",
     "traceback": [
      "\u001b[1;31m---------------------------------------------------------------------------\u001b[0m",
      "\u001b[1;31mFileNotFoundError\u001b[0m                         Traceback (most recent call last)",
      "\u001b[1;32m~\\AppData\\Local\\Temp\\ipykernel_2152\\3852153781.py\u001b[0m in \u001b[0;36m<module>\u001b[1;34m\u001b[0m\n\u001b[0;32m      1\u001b[0m \u001b[1;32mtry\u001b[0m \u001b[1;33m:\u001b[0m\u001b[1;33m\u001b[0m\u001b[1;33m\u001b[0m\u001b[0m\n\u001b[0;32m      2\u001b[0m \u001b[1;33m\u001b[0m\u001b[0m\n\u001b[1;32m----> 3\u001b[1;33m     \u001b[0mf\u001b[0m \u001b[1;33m=\u001b[0m \u001b[0mopen\u001b[0m\u001b[1;33m(\u001b[0m\u001b[1;34m\"java2.txt\"\u001b[0m\u001b[1;33m,\u001b[0m\u001b[1;34m'r'\u001b[0m\u001b[1;33m)\u001b[0m\u001b[1;33m\u001b[0m\u001b[1;33m\u001b[0m\u001b[0m\n\u001b[0m\u001b[0;32m      4\u001b[0m     \u001b[0mf\u001b[0m\u001b[1;33m.\u001b[0m\u001b[0mwrite\u001b[0m\u001b[1;33m(\u001b[0m\u001b[1;34m\"write something\"\u001b[0m\u001b[1;33m)\u001b[0m\u001b[1;33m\u001b[0m\u001b[1;33m\u001b[0m\u001b[0m\n\u001b[0;32m      5\u001b[0m \u001b[1;33m\u001b[0m\u001b[0m\n",
      "\u001b[1;31mFileNotFoundError\u001b[0m: [Errno 2] No such file or directory: 'java2.txt'"
     ]
    }
   ],
   "source": [
    "try : \n",
    "    \n",
    "    f = open(\"java2.txt\",'r')\n",
    "    f.write(\"write something\")\n",
    "    \n",
    "finally:\n",
    "    \n",
    "    print(\"Finally will execute itself in any situation\")\n",
    "    \n",
    "\n",
    "    "
   ]
  },
  {
   "cell_type": "markdown",
   "id": "40a13ddc",
   "metadata": {},
   "source": [
    "# Custom Exception Handling"
   ]
  },
  {
   "cell_type": "code",
   "execution_count": 54,
   "id": "f42b35f3",
   "metadata": {},
   "outputs": [
    {
     "name": "stdout",
     "output_type": "stream",
     "text": [
      "Enter your age 12\n"
     ]
    }
   ],
   "source": [
    "age = int(input(\"Enter your age \"))"
   ]
  },
  {
   "cell_type": "code",
   "execution_count": 55,
   "id": "85d7d974",
   "metadata": {},
   "outputs": [],
   "source": [
    "class validateage(Exception):\n",
    "    \n",
    "    def __init__(self,msg):\n",
    "        self.msg = msg"
   ]
  },
  {
   "cell_type": "code",
   "execution_count": 60,
   "id": "68cdfc67",
   "metadata": {},
   "outputs": [],
   "source": [
    "def validaetage1(age) : \n",
    "    if age < 0:\n",
    "        raise validateage(\"entered age is negative\")\n",
    "    elif age > 100:\n",
    "        \n",
    "        raise validateage(\"entered age is very high\")\n",
    "    else:\n",
    "        print(\"Age is valid\")\n",
    "    "
   ]
  },
  {
   "cell_type": "code",
   "execution_count": 61,
   "id": "8ba2b6be",
   "metadata": {},
   "outputs": [
    {
     "name": "stdout",
     "output_type": "stream",
     "text": [
      "enter your age15\n",
      "Age is valid\n"
     ]
    }
   ],
   "source": [
    "try:\n",
    "    age = int(input(\"enter your age\"))\n",
    "    validaetage1(age)\n",
    "    \n",
    "except validateage as e:\n",
    "    print(e)"
   ]
  },
  {
   "cell_type": "code",
   "execution_count": null,
   "id": "7b1c9dd2",
   "metadata": {},
   "outputs": [],
   "source": []
  }
 ],
 "metadata": {
  "kernelspec": {
   "display_name": "Python 3 (ipykernel)",
   "language": "python",
   "name": "python3"
  },
  "language_info": {
   "codemirror_mode": {
    "name": "ipython",
    "version": 3
   },
   "file_extension": ".py",
   "mimetype": "text/x-python",
   "name": "python",
   "nbconvert_exporter": "python",
   "pygments_lexer": "ipython3",
   "version": "3.9.13"
  }
 },
 "nbformat": 4,
 "nbformat_minor": 5
}
