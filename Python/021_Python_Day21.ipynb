{
 "cells": [
  {
   "cell_type": "markdown",
   "id": "a41e1d70",
   "metadata": {},
   "source": [
    "# Run this code on VS Code "
   ]
  },
  {
   "cell_type": "code",
   "execution_count": 10,
   "id": "0b4c305f",
   "metadata": {},
   "outputs": [],
   "source": [
    "import os, sys\n",
    "from os.path import dirname, join , abspath\n",
    "\n",
    "sys.path.insert(0,abspath(join(dirname(__file__),'..')))\n",
    "\n",
    "from payment import payment_details\n",
    "\n",
    "def course():\n",
    "    print(\"This is my course details\")\n",
    "    \n",
    "payment_details.payment()"
   ]
  },
  {
   "cell_type": "code",
   "execution_count": 13,
   "id": "9b3d3361",
   "metadata": {},
   "outputs": [],
   "source": [
    "import os, sys\n",
    "from os.path import dirname, join , abspath\n",
    "\n",
    "sys.path.insert(0,abspath(join(dirname(__file__),'..')))\n",
    "\n",
    "\n",
    "from course import course_details\n",
    "\n",
    "def payment():\n",
    "    print(\"This is my payment details\")\n",
    "    \n",
    "course_details.course()"
   ]
  },
  {
   "cell_type": "code",
   "execution_count": null,
   "id": "a28c8c74",
   "metadata": {},
   "outputs": [],
   "source": []
  }
 ],
 "metadata": {
  "kernelspec": {
   "display_name": "Python 3 (ipykernel)",
   "language": "python",
   "name": "python3"
  },
  "language_info": {
   "codemirror_mode": {
    "name": "ipython",
    "version": 3
   },
   "file_extension": ".py",
   "mimetype": "text/x-python",
   "name": "python",
   "nbconvert_exporter": "python",
   "pygments_lexer": "ipython3",
   "version": "3.9.13"
  }
 },
 "nbformat": 4,
 "nbformat_minor": 5
}
