{
 "cells": [
  {
   "cell_type": "markdown",
   "id": "e30c0134",
   "metadata": {},
   "source": [
    "# Introduction to Python \n",
    "\n",
    "Python is a popular programming language. It was created by Guido van Rossum, and released in 1991.\n",
    "\n",
    "It is used for :\n",
    "\n",
    "1. Web Development\n",
    "2. Software develpoment\n",
    "3. Data Science \n",
    "4. System scripting\n",
    "   "
   ]
  },
  {
   "cell_type": "code",
   "execution_count": 10,
   "id": "7947a3e5",
   "metadata": {},
   "outputs": [
    {
     "name": "stdout",
     "output_type": "stream",
     "text": [
      "This is my youtube channel named datascilearn\n"
     ]
    }
   ],
   "source": [
    "print(\"This is my youtube channel named datascilearn\")"
   ]
  },
  {
   "cell_type": "code",
   "execution_count": 11,
   "id": "4a3526b2",
   "metadata": {},
   "outputs": [
    {
     "name": "stdout",
     "output_type": "stream",
     "text": [
      "Data Science is very demanding technolgy\n"
     ]
    }
   ],
   "source": [
    "print(\"Data Science is very demanding technolgy\")"
   ]
  },
  {
   "cell_type": "code",
   "execution_count": 12,
   "id": "e726077f",
   "metadata": {},
   "outputs": [
    {
     "name": "stdout",
     "output_type": "stream",
     "text": [
      "Gen AI\n"
     ]
    }
   ],
   "source": [
    "print('Gen AI')"
   ]
  },
  {
   "cell_type": "markdown",
   "id": "89ac65e4",
   "metadata": {},
   "source": [
    "# Variable\n",
    "\n",
    "variables are conatiners for storing data values"
   ]
  },
  {
   "cell_type": "code",
   "execution_count": 19,
   "id": "ab7984ad",
   "metadata": {},
   "outputs": [
    {
     "name": "stdout",
     "output_type": "stream",
     "text": [
      "Data Science\n"
     ]
    }
   ],
   "source": [
    "a =\"Data Science\"\n",
    "print(a)"
   ]
  },
  {
   "cell_type": "code",
   "execution_count": 14,
   "id": "ac1989ef",
   "metadata": {},
   "outputs": [
    {
     "name": "stdout",
     "output_type": "stream",
     "text": [
      "7\n"
     ]
    }
   ],
   "source": [
    "b = 3 + 4\n",
    "print(b)"
   ]
  },
  {
   "cell_type": "code",
   "execution_count": 15,
   "id": "445a6ac2",
   "metadata": {},
   "outputs": [
    {
     "name": "stdout",
     "output_type": "stream",
     "text": [
      "This is a data science channel to gain knowdlege in AI\n"
     ]
    }
   ],
   "source": [
    "c = 'This is a data science channel to gain knowdlege in AI'\n",
    "print(c)"
   ]
  },
  {
   "cell_type": "code",
   "execution_count": 16,
   "id": "af9bde6d",
   "metadata": {},
   "outputs": [
    {
     "name": "stdout",
     "output_type": "stream",
     "text": [
      "Mohit Kumar\n"
     ]
    }
   ],
   "source": [
    "n = \"Mohit Kumar\"\n",
    "print(n)"
   ]
  },
  {
   "cell_type": "code",
   "execution_count": 17,
   "id": "8d95d751",
   "metadata": {},
   "outputs": [
    {
     "name": "stdout",
     "output_type": "stream",
     "text": [
      "10\n",
      "DataSciLearn\n"
     ]
    }
   ],
   "source": [
    "x = 10 \n",
    "y = 'DataSciLearn'\n",
    "\n",
    "print(x)\n",
    "print(y)"
   ]
  },
  {
   "cell_type": "code",
   "execution_count": 18,
   "id": "001e6968",
   "metadata": {},
   "outputs": [
    {
     "name": "stdout",
     "output_type": "stream",
     "text": [
      "Machine learning\n"
     ]
    }
   ],
   "source": [
    "a = 'Machine learning'\n",
    "print(a)"
   ]
  },
  {
   "cell_type": "code",
   "execution_count": 20,
   "id": "c6658367",
   "metadata": {},
   "outputs": [
    {
     "name": "stdout",
     "output_type": "stream",
     "text": [
      "AI\n"
     ]
    }
   ],
   "source": [
    "x = 5\n",
    "x = 'AI'\n",
    "print(x)"
   ]
  },
  {
   "cell_type": "code",
   "execution_count": 21,
   "id": "5a17de88",
   "metadata": {},
   "outputs": [
    {
     "name": "stdout",
     "output_type": "stream",
     "text": [
      "Data Engineer\n"
     ]
    }
   ],
   "source": [
    "# String \n",
    "#Sequence of characters\n",
    "\n",
    "n = 'Data Engineer'\n",
    "print(n)"
   ]
  },
  {
   "cell_type": "code",
   "execution_count": 22,
   "id": "7903b2ee",
   "metadata": {},
   "outputs": [
    {
     "name": "stdout",
     "output_type": "stream",
     "text": [
      "10\n"
     ]
    }
   ],
   "source": [
    "# integer -- int\n",
    "a= 2\n",
    "b= 5\n",
    "print(a*b)"
   ]
  },
  {
   "cell_type": "code",
   "execution_count": 23,
   "id": "5b7cc18b",
   "metadata": {},
   "outputs": [
    {
     "name": "stdout",
     "output_type": "stream",
     "text": [
      "4.790156\n"
     ]
    }
   ],
   "source": [
    "#float\n",
    "c = 2.345656\n",
    "b = 2.4445\n",
    "s = c + b\n",
    "print(s)"
   ]
  },
  {
   "cell_type": "code",
   "execution_count": 37,
   "id": "9a6c5876",
   "metadata": {},
   "outputs": [
    {
     "name": "stdout",
     "output_type": "stream",
     "text": [
      "True\n"
     ]
    },
    {
     "data": {
      "text/plain": [
       "NoneType"
      ]
     },
     "execution_count": 37,
     "metadata": {},
     "output_type": "execute_result"
    }
   ],
   "source": [
    "#Boolean\n",
    "#if 4 > 7:\n",
    "    #print(\"Four is greater than 7\")\n",
    "bool_1 = True\n",
    "type(print(bool_1))"
   ]
  },
  {
   "cell_type": "code",
   "execution_count": 27,
   "id": "475252d6",
   "metadata": {},
   "outputs": [
    {
     "name": "stdout",
     "output_type": "stream",
     "text": [
      "<class 'str'>\n"
     ]
    }
   ],
   "source": [
    "#type function \n",
    "print(type(n))"
   ]
  },
  {
   "cell_type": "code",
   "execution_count": 28,
   "id": "ccfb99f6",
   "metadata": {},
   "outputs": [
    {
     "name": "stdout",
     "output_type": "stream",
     "text": [
      "<class 'int'>\n"
     ]
    }
   ],
   "source": [
    "print(type(a))"
   ]
  },
  {
   "cell_type": "code",
   "execution_count": 29,
   "id": "4ab8ab5e",
   "metadata": {},
   "outputs": [
    {
     "data": {
      "text/plain": [
       "float"
      ]
     },
     "execution_count": 29,
     "metadata": {},
     "output_type": "execute_result"
    }
   ],
   "source": [
    "type(s) #type function "
   ]
  },
  {
   "cell_type": "markdown",
   "id": "d0f15acd",
   "metadata": {},
   "source": [
    "# Comments \n",
    "\n",
    "Comments can be used to explain python code "
   ]
  },
  {
   "cell_type": "code",
   "execution_count": 30,
   "id": "ca2b7fa1",
   "metadata": {},
   "outputs": [
    {
     "name": "stdout",
     "output_type": "stream",
     "text": [
      "Welcome to Our Youtube Channel Day 01\n"
     ]
    }
   ],
   "source": [
    "#This is a comment \n",
    "print(\"Welcome to Our Youtube Channel Day 01\")"
   ]
  },
  {
   "cell_type": "code",
   "execution_count": 31,
   "id": "4502a73e",
   "metadata": {},
   "outputs": [
    {
     "name": "stdout",
     "output_type": "stream",
     "text": [
      "Data Science master\n"
     ]
    }
   ],
   "source": [
    "#print function is used to display a line\n",
    "print(\"Data Science master\")"
   ]
  },
  {
   "cell_type": "markdown",
   "id": "f6204455",
   "metadata": {},
   "source": [
    "# Multiline Comment "
   ]
  },
  {
   "cell_type": "code",
   "execution_count": 35,
   "id": "5280221e",
   "metadata": {},
   "outputs": [
    {
     "name": "stdout",
     "output_type": "stream",
     "text": [
      "24\n"
     ]
    }
   ],
   "source": [
    "\"\"\"\n",
    "This is a Data Science Crash Course with Gen AI\n",
    "The Duration of this course is 8-9 months\n",
    "In this course we will each and evry topic from scratch\n",
    "\"\"\"\n",
    "l = 4\n",
    "b = 6\n",
    "area = l*b\n",
    "print(area)"
   ]
  },
  {
   "cell_type": "code",
   "execution_count": 40,
   "id": "709e8187",
   "metadata": {},
   "outputs": [
    {
     "ename": "NameError",
     "evalue": "name 'area1' is not defined",
     "output_type": "error",
     "traceback": [
      "\u001b[1;31m---------------------------------------------------------------------------\u001b[0m",
      "\u001b[1;31mNameError\u001b[0m                                 Traceback (most recent call last)",
      "\u001b[1;32m~\\AppData\\Local\\Temp\\ipykernel_21304\\48616650.py\u001b[0m in \u001b[0;36m<module>\u001b[1;34m\u001b[0m\n\u001b[0;32m      1\u001b[0m \u001b[0mArea1\u001b[0m \u001b[1;33m=\u001b[0m \u001b[1;36m23\u001b[0m\u001b[1;33m\u001b[0m\u001b[1;33m\u001b[0m\u001b[0m\n\u001b[1;32m----> 2\u001b[1;33m \u001b[0mprint\u001b[0m\u001b[1;33m(\u001b[0m\u001b[0marea1\u001b[0m\u001b[1;33m)\u001b[0m\u001b[1;33m\u001b[0m\u001b[1;33m\u001b[0m\u001b[0m\n\u001b[0m",
      "\u001b[1;31mNameError\u001b[0m: name 'area1' is not defined"
     ]
    }
   ],
   "source": [
    "Area1 = 23\n",
    "print(area1)"
   ]
  },
  {
   "cell_type": "code",
   "execution_count": 41,
   "id": "5deaf065",
   "metadata": {},
   "outputs": [
    {
     "ename": "NameError",
     "evalue": "name 'Age' is not defined",
     "output_type": "error",
     "traceback": [
      "\u001b[1;31m---------------------------------------------------------------------------\u001b[0m",
      "\u001b[1;31mNameError\u001b[0m                                 Traceback (most recent call last)",
      "\u001b[1;32m~\\AppData\\Local\\Temp\\ipykernel_21304\\3050315388.py\u001b[0m in \u001b[0;36m<module>\u001b[1;34m\u001b[0m\n\u001b[0;32m      1\u001b[0m \u001b[0mage\u001b[0m \u001b[1;33m=\u001b[0m \u001b[1;36m23\u001b[0m\u001b[1;33m\u001b[0m\u001b[1;33m\u001b[0m\u001b[0m\n\u001b[1;32m----> 2\u001b[1;33m \u001b[0mprint\u001b[0m\u001b[1;33m(\u001b[0m\u001b[0mAge\u001b[0m\u001b[1;33m)\u001b[0m\u001b[1;33m\u001b[0m\u001b[1;33m\u001b[0m\u001b[0m\n\u001b[0m",
      "\u001b[1;31mNameError\u001b[0m: name 'Age' is not defined"
     ]
    }
   ],
   "source": [
    "age = 23\n",
    "print(Age)"
   ]
  },
  {
   "cell_type": "code",
   "execution_count": 42,
   "id": "4b32b541",
   "metadata": {},
   "outputs": [
    {
     "name": "stdout",
     "output_type": "stream",
     "text": [
      "John\n",
      "john\n"
     ]
    }
   ],
   "source": [
    "my_name1 = 'John'\n",
    "my_name2 ='john'\n",
    "print(my_name1)\n",
    "print(my_name2)"
   ]
  },
  {
   "cell_type": "code",
   "execution_count": 44,
   "id": "338e287c",
   "metadata": {},
   "outputs": [
    {
     "name": "stdout",
     "output_type": "stream",
     "text": [
      "True\n",
      "False\n",
      "False\n"
     ]
    }
   ],
   "source": [
    "# Boolean\n",
    "print(10>9)\n",
    "print(10==9)\n",
    "print(10<9)"
   ]
  },
  {
   "cell_type": "code",
   "execution_count": 46,
   "id": "e76e4224",
   "metadata": {},
   "outputs": [
    {
     "name": "stdout",
     "output_type": "stream",
     "text": [
      "True\n"
     ]
    },
    {
     "data": {
      "text/plain": [
       "NoneType"
      ]
     },
     "execution_count": 46,
     "metadata": {},
     "output_type": "execute_result"
    }
   ],
   "source": [
    "a = 10 > 7\n",
    "type(print(a))"
   ]
  },
  {
   "cell_type": "code",
   "execution_count": 48,
   "id": "b2ee38be",
   "metadata": {},
   "outputs": [
    {
     "name": "stdout",
     "output_type": "stream",
     "text": [
      "Four is not greater than 7\n"
     ]
    }
   ],
   "source": [
    "if 4 > 7:\n",
    "    print(\"Four is greater than 7\")\n",
    "else:\n",
    "    print(\"Four is not greater than 7\")"
   ]
  },
  {
   "cell_type": "code",
   "execution_count": null,
   "id": "5d92c6cb",
   "metadata": {},
   "outputs": [],
   "source": []
  }
 ],
 "metadata": {
  "kernelspec": {
   "display_name": "Python 3 (ipykernel)",
   "language": "python",
   "name": "python3"
  },
  "language_info": {
   "codemirror_mode": {
    "name": "ipython",
    "version": 3
   },
   "file_extension": ".py",
   "mimetype": "text/x-python",
   "name": "python",
   "nbconvert_exporter": "python",
   "pygments_lexer": "ipython3",
   "version": "3.9.13"
  }
 },
 "nbformat": 4,
 "nbformat_minor": 5
}
